{
 "cells": [
  {
   "cell_type": "code",
   "execution_count": 1,
   "id": "0f62f41b",
   "metadata": {
    "_cell_guid": "b1076dfc-b9ad-4769-8c92-a6c4dae69d19",
    "_uuid": "8f2839f25d086af736a60e9eeb907d3b93b6e0e5",
    "execution": {
     "iopub.execute_input": "2022-04-14T13:33:10.745864Z",
     "iopub.status.busy": "2022-04-14T13:33:10.743947Z",
     "iopub.status.idle": "2022-04-14T13:33:10.771928Z",
     "shell.execute_reply": "2022-04-14T13:33:10.771291Z",
     "shell.execute_reply.started": "2022-04-14T12:58:48.595156Z"
    },
    "papermill": {
     "duration": 0.088888,
     "end_time": "2022-04-14T13:33:10.772129",
     "exception": false,
     "start_time": "2022-04-14T13:33:10.683241",
     "status": "completed"
    },
    "tags": []
   },
   "outputs": [
    {
     "name": "stdout",
     "output_type": "stream",
     "text": [
      "/kaggle/input/predict-icu-mortality-shap/__results__.html\n",
      "/kaggle/input/predict-icu-mortality-shap/__notebook__.ipynb\n",
      "/kaggle/input/predict-icu-mortality-shap/__output__.json\n",
      "/kaggle/input/predict-icu-mortality-shap/icu_mortality_train.csv\n",
      "/kaggle/input/predict-icu-mortality-shap/custom.css\n",
      "/kaggle/input/predict-icu-mortality-shap/__results___files/__results___63_13.png\n",
      "/kaggle/input/predict-icu-mortality-shap/__results___files/__results___72_0.png\n",
      "/kaggle/input/predict-icu-mortality-shap/__results___files/__results___39_0.png\n",
      "/kaggle/input/predict-icu-mortality-shap/__results___files/__results___63_7.png\n",
      "/kaggle/input/predict-icu-mortality-shap/__results___files/__results___79_0.png\n",
      "/kaggle/input/predict-icu-mortality-shap/__results___files/__results___63_17.png\n",
      "/kaggle/input/predict-icu-mortality-shap/__results___files/__results___31_0.png\n",
      "/kaggle/input/predict-icu-mortality-shap/__results___files/__results___86_0.png\n",
      "/kaggle/input/predict-icu-mortality-shap/__results___files/__results___36_0.png\n",
      "/kaggle/input/predict-icu-mortality-shap/__results___files/__results___70_0.png\n",
      "/kaggle/input/predict-icu-mortality-shap/__results___files/__results___63_5.png\n",
      "/kaggle/input/predict-icu-mortality-shap/__results___files/__results___63_15.png\n",
      "/kaggle/input/predict-icu-mortality-shap/__results___files/__results___27_0.png\n",
      "/kaggle/input/predict-icu-mortality-shap/__results___files/__results___63_11.png\n",
      "/kaggle/input/predict-icu-mortality-shap/__results___files/__results___44_0.png\n",
      "/kaggle/input/predict-icu-mortality-shap/__results___files/__results___63_3.png\n",
      "/kaggle/input/predict-icu-mortality-shap/__results___files/__results___29_0.png\n",
      "/kaggle/input/predict-icu-mortality-shap/__results___files/__results___41_0.png\n",
      "/kaggle/input/predict-icu-mortality-shap/__results___files/__results___34_0.png\n",
      "/kaggle/input/predict-icu-mortality-shap/__results___files/__results___84_0.png\n",
      "/kaggle/input/predict-icu-mortality-shap/__results___files/__results___63_9.png\n",
      "/kaggle/input/predict-icu-mortality-shap/__results___files/__results___42_0.png\n",
      "/kaggle/input/predict-icu-mortality-shap/__results___files/__results___63_1.png\n",
      "/kaggle/input/predict-icu-mortality-shap/__results___files/__results___26_0.png\n",
      "/kaggle/input/predict-icu-mortality-shap/__results___files/__results___63_19.png\n"
     ]
    }
   ],
   "source": [
    "# This Python 3 environment comes with many helpful analytics libraries installed\n",
    "# It is defined by the kaggle/python Docker image: https://github.com/kaggle/docker-python\n",
    "# For example, here's several helpful packages to load\n",
    "\n",
    "import numpy as np # linear algebra\n",
    "import pandas as pd # data processing, CSV file I/O (e.g. pd.read_csv)\n",
    "\n",
    "# Input data files are available in the read-only \"../input/\" directory\n",
    "# For example, running this (by clicking run or pressing Shift+Enter) will list all files under the input directory\n",
    "\n",
    "import os\n",
    "for dirname, _, filenames in os.walk('/kaggle/input'):\n",
    "    for filename in filenames:\n",
    "        print(os.path.join(dirname, filename))\n",
    "\n",
    "# You can write up to 20GB to the current directory (/kaggle/working/) that gets preserved as output when you create a version using \"Save & Run All\" \n",
    "# You can also write temporary files to /kaggle/temp/, but they won't be saved outside of the current session"
   ]
  },
  {
   "cell_type": "markdown",
   "id": "4d59ace3",
   "metadata": {
    "papermill": {
     "duration": 0.050185,
     "end_time": "2022-04-14T13:33:10.875874",
     "exception": false,
     "start_time": "2022-04-14T13:33:10.825689",
     "status": "completed"
    },
    "tags": []
   },
   "source": []
  },
  {
   "cell_type": "markdown",
   "id": "03a4889c",
   "metadata": {
    "papermill": {
     "duration": 0.051379,
     "end_time": "2022-04-14T13:33:10.991787",
     "exception": false,
     "start_time": "2022-04-14T13:33:10.940408",
     "status": "completed"
    },
    "tags": []
   },
   "source": [
    "# Loading the dataset"
   ]
  },
  {
   "cell_type": "code",
   "execution_count": 2,
   "id": "b8be8d91",
   "metadata": {
    "execution": {
     "iopub.execute_input": "2022-04-14T13:33:11.098993Z",
     "iopub.status.busy": "2022-04-14T13:33:11.098356Z",
     "iopub.status.idle": "2022-04-14T13:33:11.156244Z",
     "shell.execute_reply": "2022-04-14T13:33:11.156715Z",
     "shell.execute_reply.started": "2022-04-14T12:58:48.644074Z"
    },
    "papermill": {
     "duration": 0.112024,
     "end_time": "2022-04-14T13:33:11.156889",
     "exception": false,
     "start_time": "2022-04-14T13:33:11.044865",
     "status": "completed"
    },
    "tags": []
   },
   "outputs": [
    {
     "data": {
      "text/html": [
       "<div>\n",
       "<style scoped>\n",
       "    .dataframe tbody tr th:only-of-type {\n",
       "        vertical-align: middle;\n",
       "    }\n",
       "\n",
       "    .dataframe tbody tr th {\n",
       "        vertical-align: top;\n",
       "    }\n",
       "\n",
       "    .dataframe thead th {\n",
       "        text-align: right;\n",
       "    }\n",
       "</style>\n",
       "<table border=\"1\" class=\"dataframe\">\n",
       "  <thead>\n",
       "    <tr style=\"text-align: right;\">\n",
       "      <th></th>\n",
       "      <th>RecordID</th>\n",
       "      <th>Age</th>\n",
       "      <th>Gender</th>\n",
       "      <th>Height</th>\n",
       "      <th>Weight</th>\n",
       "      <th>Urine</th>\n",
       "      <th>HR</th>\n",
       "      <th>Temp</th>\n",
       "      <th>NIDiasABP</th>\n",
       "      <th>SysABP</th>\n",
       "      <th>...</th>\n",
       "      <th>PaCO2</th>\n",
       "      <th>PaO2</th>\n",
       "      <th>Platelets</th>\n",
       "      <th>MAP</th>\n",
       "      <th>K</th>\n",
       "      <th>Na</th>\n",
       "      <th>FiO2</th>\n",
       "      <th>GCS</th>\n",
       "      <th>ICUType</th>\n",
       "      <th>In-hospital_death</th>\n",
       "    </tr>\n",
       "  </thead>\n",
       "  <tbody>\n",
       "    <tr>\n",
       "      <th>0</th>\n",
       "      <td>137021.0</td>\n",
       "      <td>66.0</td>\n",
       "      <td>1.0</td>\n",
       "      <td>177.8</td>\n",
       "      <td>102.00</td>\n",
       "      <td>117.50</td>\n",
       "      <td>113.41</td>\n",
       "      <td>37.23</td>\n",
       "      <td>56.61</td>\n",
       "      <td>NaN</td>\n",
       "      <td>...</td>\n",
       "      <td>NaN</td>\n",
       "      <td>NaN</td>\n",
       "      <td>209.00</td>\n",
       "      <td>NaN</td>\n",
       "      <td>4.25</td>\n",
       "      <td>137.00</td>\n",
       "      <td>NaN</td>\n",
       "      <td>15.00</td>\n",
       "      <td>2.0</td>\n",
       "      <td>0</td>\n",
       "    </tr>\n",
       "    <tr>\n",
       "      <th>1</th>\n",
       "      <td>133611.0</td>\n",
       "      <td>50.0</td>\n",
       "      <td>1.0</td>\n",
       "      <td>NaN</td>\n",
       "      <td>92.40</td>\n",
       "      <td>210.51</td>\n",
       "      <td>85.93</td>\n",
       "      <td>38.04</td>\n",
       "      <td>58.60</td>\n",
       "      <td>126.69</td>\n",
       "      <td>...</td>\n",
       "      <td>41.00</td>\n",
       "      <td>175.00</td>\n",
       "      <td>243.33</td>\n",
       "      <td>88.02</td>\n",
       "      <td>4.38</td>\n",
       "      <td>144.00</td>\n",
       "      <td>0.51</td>\n",
       "      <td>6.88</td>\n",
       "      <td>4.0</td>\n",
       "      <td>0</td>\n",
       "    </tr>\n",
       "    <tr>\n",
       "      <th>2</th>\n",
       "      <td>137860.0</td>\n",
       "      <td>40.0</td>\n",
       "      <td>1.0</td>\n",
       "      <td>185.4</td>\n",
       "      <td>81.80</td>\n",
       "      <td>467.41</td>\n",
       "      <td>98.83</td>\n",
       "      <td>36.83</td>\n",
       "      <td>57.88</td>\n",
       "      <td>157.63</td>\n",
       "      <td>...</td>\n",
       "      <td>38.82</td>\n",
       "      <td>127.12</td>\n",
       "      <td>143.33</td>\n",
       "      <td>108.53</td>\n",
       "      <td>4.33</td>\n",
       "      <td>139.67</td>\n",
       "      <td>0.55</td>\n",
       "      <td>7.65</td>\n",
       "      <td>4.0</td>\n",
       "      <td>0</td>\n",
       "    </tr>\n",
       "    <tr>\n",
       "      <th>3</th>\n",
       "      <td>134781.0</td>\n",
       "      <td>58.0</td>\n",
       "      <td>1.0</td>\n",
       "      <td>180.3</td>\n",
       "      <td>99.22</td>\n",
       "      <td>86.55</td>\n",
       "      <td>81.63</td>\n",
       "      <td>36.96</td>\n",
       "      <td>49.64</td>\n",
       "      <td>113.86</td>\n",
       "      <td>...</td>\n",
       "      <td>46.20</td>\n",
       "      <td>147.60</td>\n",
       "      <td>109.60</td>\n",
       "      <td>78.06</td>\n",
       "      <td>4.07</td>\n",
       "      <td>137.75</td>\n",
       "      <td>0.58</td>\n",
       "      <td>13.50</td>\n",
       "      <td>2.0</td>\n",
       "      <td>0</td>\n",
       "    </tr>\n",
       "    <tr>\n",
       "      <th>4</th>\n",
       "      <td>133534.0</td>\n",
       "      <td>80.0</td>\n",
       "      <td>1.0</td>\n",
       "      <td>NaN</td>\n",
       "      <td>73.00</td>\n",
       "      <td>194.12</td>\n",
       "      <td>71.86</td>\n",
       "      <td>37.10</td>\n",
       "      <td>72.85</td>\n",
       "      <td>NaN</td>\n",
       "      <td>...</td>\n",
       "      <td>NaN</td>\n",
       "      <td>NaN</td>\n",
       "      <td>NaN</td>\n",
       "      <td>NaN</td>\n",
       "      <td>NaN</td>\n",
       "      <td>NaN</td>\n",
       "      <td>NaN</td>\n",
       "      <td>15.00</td>\n",
       "      <td>3.0</td>\n",
       "      <td>0</td>\n",
       "    </tr>\n",
       "  </tbody>\n",
       "</table>\n",
       "<p>5 rows × 22 columns</p>\n",
       "</div>"
      ],
      "text/plain": [
       "   RecordID   Age  Gender  Height  Weight   Urine      HR   Temp  NIDiasABP  \\\n",
       "0  137021.0  66.0     1.0   177.8  102.00  117.50  113.41  37.23      56.61   \n",
       "1  133611.0  50.0     1.0     NaN   92.40  210.51   85.93  38.04      58.60   \n",
       "2  137860.0  40.0     1.0   185.4   81.80  467.41   98.83  36.83      57.88   \n",
       "3  134781.0  58.0     1.0   180.3   99.22   86.55   81.63  36.96      49.64   \n",
       "4  133534.0  80.0     1.0     NaN   73.00  194.12   71.86  37.10      72.85   \n",
       "\n",
       "   SysABP  ...  PaCO2    PaO2  Platelets     MAP     K      Na  FiO2    GCS  \\\n",
       "0     NaN  ...    NaN     NaN     209.00     NaN  4.25  137.00   NaN  15.00   \n",
       "1  126.69  ...  41.00  175.00     243.33   88.02  4.38  144.00  0.51   6.88   \n",
       "2  157.63  ...  38.82  127.12     143.33  108.53  4.33  139.67  0.55   7.65   \n",
       "3  113.86  ...  46.20  147.60     109.60   78.06  4.07  137.75  0.58  13.50   \n",
       "4     NaN  ...    NaN     NaN        NaN     NaN   NaN     NaN   NaN  15.00   \n",
       "\n",
       "   ICUType  In-hospital_death  \n",
       "0      2.0                  0  \n",
       "1      4.0                  0  \n",
       "2      4.0                  0  \n",
       "3      2.0                  0  \n",
       "4      3.0                  0  \n",
       "\n",
       "[5 rows x 22 columns]"
      ]
     },
     "execution_count": 2,
     "metadata": {},
     "output_type": "execute_result"
    }
   ],
   "source": [
    "train=pd.read_csv('../input/predict-icu-mortality-shap/icu_mortality_train.csv')\n",
    "train.head()"
   ]
  },
  {
   "cell_type": "code",
   "execution_count": 3,
   "id": "f85d3aaa",
   "metadata": {
    "execution": {
     "iopub.execute_input": "2022-04-14T13:33:11.269347Z",
     "iopub.status.busy": "2022-04-14T13:33:11.267239Z",
     "iopub.status.idle": "2022-04-14T13:33:11.271789Z",
     "shell.execute_reply": "2022-04-14T13:33:11.272271Z",
     "shell.execute_reply.started": "2022-04-14T12:58:48.737925Z"
    },
    "papermill": {
     "duration": 0.065027,
     "end_time": "2022-04-14T13:33:11.272454",
     "exception": false,
     "start_time": "2022-04-14T13:33:11.207427",
     "status": "completed"
    },
    "tags": []
   },
   "outputs": [
    {
     "data": {
      "text/plain": [
       "(4000, 22)"
      ]
     },
     "execution_count": 3,
     "metadata": {},
     "output_type": "execute_result"
    }
   ],
   "source": [
    "train.shape"
   ]
  },
  {
   "cell_type": "markdown",
   "id": "ea4a0c7b",
   "metadata": {
    "papermill": {
     "duration": 0.053538,
     "end_time": "2022-04-14T13:33:11.381363",
     "exception": false,
     "start_time": "2022-04-14T13:33:11.327825",
     "status": "completed"
    },
    "tags": []
   },
   "source": [
    "# Missing Values Plot"
   ]
  },
  {
   "cell_type": "code",
   "execution_count": 4,
   "id": "61499614",
   "metadata": {
    "execution": {
     "iopub.execute_input": "2022-04-14T13:33:11.486223Z",
     "iopub.status.busy": "2022-04-14T13:33:11.485625Z",
     "iopub.status.idle": "2022-04-14T13:33:15.466087Z",
     "shell.execute_reply": "2022-04-14T13:33:15.466598Z",
     "shell.execute_reply.started": "2022-04-14T12:58:48.746401Z"
    },
    "papermill": {
     "duration": 4.034504,
     "end_time": "2022-04-14T13:33:15.466771",
     "exception": false,
     "start_time": "2022-04-14T13:33:11.432267",
     "status": "completed"
    },
    "tags": []
   },
   "outputs": [
    {
     "name": "stderr",
     "output_type": "stream",
     "text": [
      "/opt/conda/lib/python3.7/site-packages/geopandas/_compat.py:115: UserWarning:\n",
      "\n",
      "The Shapely GEOS version (3.9.1-CAPI-1.14.2) is incompatible with the GEOS version PyGEOS was compiled with (3.10.1-CAPI-1.16.0). Conversions between both will be slow.\n",
      "\n"
     ]
    },
    {
     "data": {
      "text/html": [
       "        <script type=\"text/javascript\">\n",
       "        window.PlotlyConfig = {MathJaxConfig: 'local'};\n",
       "        if (window.MathJax) {MathJax.Hub.Config({SVG: {font: \"STIX-Web\"}});}\n",
       "        if (typeof require !== 'undefined') {\n",
       "        require.undef(\"plotly\");\n",
       "        requirejs.config({\n",
       "            paths: {\n",
       "                'plotly': ['https://cdn.plot.ly/plotly-2.9.0.min']\n",
       "            }\n",
       "        });\n",
       "        require(['plotly'], function(Plotly) {\n",
       "            window._Plotly = Plotly;\n",
       "        });\n",
       "        }\n",
       "        </script>\n",
       "        "
      ]
     },
     "metadata": {},
     "output_type": "display_data"
    },
    {
     "data": {
      "application/vnd.plotly.v1+json": {
       "config": {
        "linkText": "Export to plot.ly",
        "plotlyServerURL": "https://plot.ly",
        "showLink": true
       },
       "data": [
        {
         "marker": {
          "color": "rgba(219, 64, 82, 0.6)",
          "line": {
           "color": "rgba(219, 64, 82, 1.0)",
           "width": 1
          }
         },
         "name": "total_missing",
         "orientation": "v",
         "text": "",
         "type": "bar",
         "x": [
          "RecordID",
          "Age",
          "Gender",
          "Height",
          "Weight",
          "Urine",
          "HR",
          "Temp",
          "NIDiasABP",
          "SysABP",
          "DiasABP",
          "pH",
          "PaCO2",
          "PaO2",
          "Platelets",
          "MAP",
          "K",
          "Na",
          "FiO2",
          "GCS",
          "ICUType",
          "In-hospital_death"
         ],
         "y": [
          0,
          0,
          3,
          1894,
          296,
          117,
          63,
          64,
          517,
          1201,
          1201,
          960,
          977,
          977,
          68,
          1208,
          96,
          75,
          1283,
          64,
          0,
          0
         ]
        }
       ],
       "layout": {
        "legend": {
         "bgcolor": "#F5F6F9",
         "font": {
          "color": "#4D5663"
         }
        },
        "paper_bgcolor": "#F5F6F9",
        "plot_bgcolor": "#F5F6F9",
        "template": {
         "data": {
          "bar": [
           {
            "error_x": {
             "color": "#2a3f5f"
            },
            "error_y": {
             "color": "#2a3f5f"
            },
            "marker": {
             "line": {
              "color": "#E5ECF6",
              "width": 0.5
             },
             "pattern": {
              "fillmode": "overlay",
              "size": 10,
              "solidity": 0.2
             }
            },
            "type": "bar"
           }
          ],
          "barpolar": [
           {
            "marker": {
             "line": {
              "color": "#E5ECF6",
              "width": 0.5
             },
             "pattern": {
              "fillmode": "overlay",
              "size": 10,
              "solidity": 0.2
             }
            },
            "type": "barpolar"
           }
          ],
          "carpet": [
           {
            "aaxis": {
             "endlinecolor": "#2a3f5f",
             "gridcolor": "white",
             "linecolor": "white",
             "minorgridcolor": "white",
             "startlinecolor": "#2a3f5f"
            },
            "baxis": {
             "endlinecolor": "#2a3f5f",
             "gridcolor": "white",
             "linecolor": "white",
             "minorgridcolor": "white",
             "startlinecolor": "#2a3f5f"
            },
            "type": "carpet"
           }
          ],
          "choropleth": [
           {
            "colorbar": {
             "outlinewidth": 0,
             "ticks": ""
            },
            "type": "choropleth"
           }
          ],
          "contour": [
           {
            "colorbar": {
             "outlinewidth": 0,
             "ticks": ""
            },
            "colorscale": [
             [
              0.0,
              "#0d0887"
             ],
             [
              0.1111111111111111,
              "#46039f"
             ],
             [
              0.2222222222222222,
              "#7201a8"
             ],
             [
              0.3333333333333333,
              "#9c179e"
             ],
             [
              0.4444444444444444,
              "#bd3786"
             ],
             [
              0.5555555555555556,
              "#d8576b"
             ],
             [
              0.6666666666666666,
              "#ed7953"
             ],
             [
              0.7777777777777778,
              "#fb9f3a"
             ],
             [
              0.8888888888888888,
              "#fdca26"
             ],
             [
              1.0,
              "#f0f921"
             ]
            ],
            "type": "contour"
           }
          ],
          "contourcarpet": [
           {
            "colorbar": {
             "outlinewidth": 0,
             "ticks": ""
            },
            "type": "contourcarpet"
           }
          ],
          "heatmap": [
           {
            "colorbar": {
             "outlinewidth": 0,
             "ticks": ""
            },
            "colorscale": [
             [
              0.0,
              "#0d0887"
             ],
             [
              0.1111111111111111,
              "#46039f"
             ],
             [
              0.2222222222222222,
              "#7201a8"
             ],
             [
              0.3333333333333333,
              "#9c179e"
             ],
             [
              0.4444444444444444,
              "#bd3786"
             ],
             [
              0.5555555555555556,
              "#d8576b"
             ],
             [
              0.6666666666666666,
              "#ed7953"
             ],
             [
              0.7777777777777778,
              "#fb9f3a"
             ],
             [
              0.8888888888888888,
              "#fdca26"
             ],
             [
              1.0,
              "#f0f921"
             ]
            ],
            "type": "heatmap"
           }
          ],
          "heatmapgl": [
           {
            "colorbar": {
             "outlinewidth": 0,
             "ticks": ""
            },
            "colorscale": [
             [
              0.0,
              "#0d0887"
             ],
             [
              0.1111111111111111,
              "#46039f"
             ],
             [
              0.2222222222222222,
              "#7201a8"
             ],
             [
              0.3333333333333333,
              "#9c179e"
             ],
             [
              0.4444444444444444,
              "#bd3786"
             ],
             [
              0.5555555555555556,
              "#d8576b"
             ],
             [
              0.6666666666666666,
              "#ed7953"
             ],
             [
              0.7777777777777778,
              "#fb9f3a"
             ],
             [
              0.8888888888888888,
              "#fdca26"
             ],
             [
              1.0,
              "#f0f921"
             ]
            ],
            "type": "heatmapgl"
           }
          ],
          "histogram": [
           {
            "marker": {
             "pattern": {
              "fillmode": "overlay",
              "size": 10,
              "solidity": 0.2
             }
            },
            "type": "histogram"
           }
          ],
          "histogram2d": [
           {
            "colorbar": {
             "outlinewidth": 0,
             "ticks": ""
            },
            "colorscale": [
             [
              0.0,
              "#0d0887"
             ],
             [
              0.1111111111111111,
              "#46039f"
             ],
             [
              0.2222222222222222,
              "#7201a8"
             ],
             [
              0.3333333333333333,
              "#9c179e"
             ],
             [
              0.4444444444444444,
              "#bd3786"
             ],
             [
              0.5555555555555556,
              "#d8576b"
             ],
             [
              0.6666666666666666,
              "#ed7953"
             ],
             [
              0.7777777777777778,
              "#fb9f3a"
             ],
             [
              0.8888888888888888,
              "#fdca26"
             ],
             [
              1.0,
              "#f0f921"
             ]
            ],
            "type": "histogram2d"
           }
          ],
          "histogram2dcontour": [
           {
            "colorbar": {
             "outlinewidth": 0,
             "ticks": ""
            },
            "colorscale": [
             [
              0.0,
              "#0d0887"
             ],
             [
              0.1111111111111111,
              "#46039f"
             ],
             [
              0.2222222222222222,
              "#7201a8"
             ],
             [
              0.3333333333333333,
              "#9c179e"
             ],
             [
              0.4444444444444444,
              "#bd3786"
             ],
             [
              0.5555555555555556,
              "#d8576b"
             ],
             [
              0.6666666666666666,
              "#ed7953"
             ],
             [
              0.7777777777777778,
              "#fb9f3a"
             ],
             [
              0.8888888888888888,
              "#fdca26"
             ],
             [
              1.0,
              "#f0f921"
             ]
            ],
            "type": "histogram2dcontour"
           }
          ],
          "mesh3d": [
           {
            "colorbar": {
             "outlinewidth": 0,
             "ticks": ""
            },
            "type": "mesh3d"
           }
          ],
          "parcoords": [
           {
            "line": {
             "colorbar": {
              "outlinewidth": 0,
              "ticks": ""
             }
            },
            "type": "parcoords"
           }
          ],
          "pie": [
           {
            "automargin": true,
            "type": "pie"
           }
          ],
          "scatter": [
           {
            "marker": {
             "colorbar": {
              "outlinewidth": 0,
              "ticks": ""
             }
            },
            "type": "scatter"
           }
          ],
          "scatter3d": [
           {
            "line": {
             "colorbar": {
              "outlinewidth": 0,
              "ticks": ""
             }
            },
            "marker": {
             "colorbar": {
              "outlinewidth": 0,
              "ticks": ""
             }
            },
            "type": "scatter3d"
           }
          ],
          "scattercarpet": [
           {
            "marker": {
             "colorbar": {
              "outlinewidth": 0,
              "ticks": ""
             }
            },
            "type": "scattercarpet"
           }
          ],
          "scattergeo": [
           {
            "marker": {
             "colorbar": {
              "outlinewidth": 0,
              "ticks": ""
             }
            },
            "type": "scattergeo"
           }
          ],
          "scattergl": [
           {
            "marker": {
             "colorbar": {
              "outlinewidth": 0,
              "ticks": ""
             }
            },
            "type": "scattergl"
           }
          ],
          "scattermapbox": [
           {
            "marker": {
             "colorbar": {
              "outlinewidth": 0,
              "ticks": ""
             }
            },
            "type": "scattermapbox"
           }
          ],
          "scatterpolar": [
           {
            "marker": {
             "colorbar": {
              "outlinewidth": 0,
              "ticks": ""
             }
            },
            "type": "scatterpolar"
           }
          ],
          "scatterpolargl": [
           {
            "marker": {
             "colorbar": {
              "outlinewidth": 0,
              "ticks": ""
             }
            },
            "type": "scatterpolargl"
           }
          ],
          "scatterternary": [
           {
            "marker": {
             "colorbar": {
              "outlinewidth": 0,
              "ticks": ""
             }
            },
            "type": "scatterternary"
           }
          ],
          "surface": [
           {
            "colorbar": {
             "outlinewidth": 0,
             "ticks": ""
            },
            "colorscale": [
             [
              0.0,
              "#0d0887"
             ],
             [
              0.1111111111111111,
              "#46039f"
             ],
             [
              0.2222222222222222,
              "#7201a8"
             ],
             [
              0.3333333333333333,
              "#9c179e"
             ],
             [
              0.4444444444444444,
              "#bd3786"
             ],
             [
              0.5555555555555556,
              "#d8576b"
             ],
             [
              0.6666666666666666,
              "#ed7953"
             ],
             [
              0.7777777777777778,
              "#fb9f3a"
             ],
             [
              0.8888888888888888,
              "#fdca26"
             ],
             [
              1.0,
              "#f0f921"
             ]
            ],
            "type": "surface"
           }
          ],
          "table": [
           {
            "cells": {
             "fill": {
              "color": "#EBF0F8"
             },
             "line": {
              "color": "white"
             }
            },
            "header": {
             "fill": {
              "color": "#C8D4E3"
             },
             "line": {
              "color": "white"
             }
            },
            "type": "table"
           }
          ]
         },
         "layout": {
          "annotationdefaults": {
           "arrowcolor": "#2a3f5f",
           "arrowhead": 0,
           "arrowwidth": 1
          },
          "autotypenumbers": "strict",
          "coloraxis": {
           "colorbar": {
            "outlinewidth": 0,
            "ticks": ""
           }
          },
          "colorscale": {
           "diverging": [
            [
             0,
             "#8e0152"
            ],
            [
             0.1,
             "#c51b7d"
            ],
            [
             0.2,
             "#de77ae"
            ],
            [
             0.3,
             "#f1b6da"
            ],
            [
             0.4,
             "#fde0ef"
            ],
            [
             0.5,
             "#f7f7f7"
            ],
            [
             0.6,
             "#e6f5d0"
            ],
            [
             0.7,
             "#b8e186"
            ],
            [
             0.8,
             "#7fbc41"
            ],
            [
             0.9,
             "#4d9221"
            ],
            [
             1,
             "#276419"
            ]
           ],
           "sequential": [
            [
             0.0,
             "#0d0887"
            ],
            [
             0.1111111111111111,
             "#46039f"
            ],
            [
             0.2222222222222222,
             "#7201a8"
            ],
            [
             0.3333333333333333,
             "#9c179e"
            ],
            [
             0.4444444444444444,
             "#bd3786"
            ],
            [
             0.5555555555555556,
             "#d8576b"
            ],
            [
             0.6666666666666666,
             "#ed7953"
            ],
            [
             0.7777777777777778,
             "#fb9f3a"
            ],
            [
             0.8888888888888888,
             "#fdca26"
            ],
            [
             1.0,
             "#f0f921"
            ]
           ],
           "sequentialminus": [
            [
             0.0,
             "#0d0887"
            ],
            [
             0.1111111111111111,
             "#46039f"
            ],
            [
             0.2222222222222222,
             "#7201a8"
            ],
            [
             0.3333333333333333,
             "#9c179e"
            ],
            [
             0.4444444444444444,
             "#bd3786"
            ],
            [
             0.5555555555555556,
             "#d8576b"
            ],
            [
             0.6666666666666666,
             "#ed7953"
            ],
            [
             0.7777777777777778,
             "#fb9f3a"
            ],
            [
             0.8888888888888888,
             "#fdca26"
            ],
            [
             1.0,
             "#f0f921"
            ]
           ]
          },
          "colorway": [
           "#636efa",
           "#EF553B",
           "#00cc96",
           "#ab63fa",
           "#FFA15A",
           "#19d3f3",
           "#FF6692",
           "#B6E880",
           "#FF97FF",
           "#FECB52"
          ],
          "font": {
           "color": "#2a3f5f"
          },
          "geo": {
           "bgcolor": "white",
           "lakecolor": "white",
           "landcolor": "#E5ECF6",
           "showlakes": true,
           "showland": true,
           "subunitcolor": "white"
          },
          "hoverlabel": {
           "align": "left"
          },
          "hovermode": "closest",
          "mapbox": {
           "style": "light"
          },
          "paper_bgcolor": "white",
          "plot_bgcolor": "#E5ECF6",
          "polar": {
           "angularaxis": {
            "gridcolor": "white",
            "linecolor": "white",
            "ticks": ""
           },
           "bgcolor": "#E5ECF6",
           "radialaxis": {
            "gridcolor": "white",
            "linecolor": "white",
            "ticks": ""
           }
          },
          "scene": {
           "xaxis": {
            "backgroundcolor": "#E5ECF6",
            "gridcolor": "white",
            "gridwidth": 2,
            "linecolor": "white",
            "showbackground": true,
            "ticks": "",
            "zerolinecolor": "white"
           },
           "yaxis": {
            "backgroundcolor": "#E5ECF6",
            "gridcolor": "white",
            "gridwidth": 2,
            "linecolor": "white",
            "showbackground": true,
            "ticks": "",
            "zerolinecolor": "white"
           },
           "zaxis": {
            "backgroundcolor": "#E5ECF6",
            "gridcolor": "white",
            "gridwidth": 2,
            "linecolor": "white",
            "showbackground": true,
            "ticks": "",
            "zerolinecolor": "white"
           }
          },
          "shapedefaults": {
           "line": {
            "color": "#2a3f5f"
           }
          },
          "ternary": {
           "aaxis": {
            "gridcolor": "white",
            "linecolor": "white",
            "ticks": ""
           },
           "baxis": {
            "gridcolor": "white",
            "linecolor": "white",
            "ticks": ""
           },
           "bgcolor": "#E5ECF6",
           "caxis": {
            "gridcolor": "white",
            "linecolor": "white",
            "ticks": ""
           }
          },
          "title": {
           "x": 0.05
          },
          "xaxis": {
           "automargin": true,
           "gridcolor": "white",
           "linecolor": "white",
           "ticks": "",
           "title": {
            "standoff": 15
           },
           "zerolinecolor": "white",
           "zerolinewidth": 2
          },
          "yaxis": {
           "automargin": true,
           "gridcolor": "white",
           "linecolor": "white",
           "ticks": "",
           "title": {
            "standoff": 15
           },
           "zerolinecolor": "white",
           "zerolinewidth": 2
          }
         }
        },
        "title": {
         "font": {
          "color": "#4D5663"
         },
         "text": "<b>Missing Values Count in Dataset</b>"
        },
        "xaxis": {
         "gridcolor": "#E1E5ED",
         "showgrid": true,
         "tickfont": {
          "color": "#4D5663"
         },
         "title": {
          "font": {
           "color": "#4D5663"
          },
          "text": "Features"
         },
         "zerolinecolor": "#E1E5ED"
        },
        "yaxis": {
         "gridcolor": "#E1E5ED",
         "showgrid": true,
         "tickfont": {
          "color": "#4D5663"
         },
         "title": {
          "font": {
           "color": "#4D5663"
          },
          "text": "Count"
         },
         "zerolinecolor": "#E1E5ED"
        }
       }
      },
      "text/html": [
       "<div>                            <div id=\"173d6216-202c-4fe3-973e-ad7c79cd85a7\" class=\"plotly-graph-div\" style=\"height:525px; width:100%;\"></div>            <script type=\"text/javascript\">                require([\"plotly\"], function(Plotly) {                    window.PLOTLYENV=window.PLOTLYENV || {};\n",
       "                    window.PLOTLYENV.BASE_URL='https://plot.ly';                                    if (document.getElementById(\"173d6216-202c-4fe3-973e-ad7c79cd85a7\")) {                    Plotly.newPlot(                        \"173d6216-202c-4fe3-973e-ad7c79cd85a7\",                        [{\"marker\":{\"color\":\"rgba(219, 64, 82, 0.6)\",\"line\":{\"color\":\"rgba(219, 64, 82, 1.0)\",\"width\":1}},\"name\":\"total_missing\",\"orientation\":\"v\",\"text\":\"\",\"x\":[\"RecordID\",\"Age\",\"Gender\",\"Height\",\"Weight\",\"Urine\",\"HR\",\"Temp\",\"NIDiasABP\",\"SysABP\",\"DiasABP\",\"pH\",\"PaCO2\",\"PaO2\",\"Platelets\",\"MAP\",\"K\",\"Na\",\"FiO2\",\"GCS\",\"ICUType\",\"In-hospital_death\"],\"y\":[0,0,3,1894,296,117,63,64,517,1201,1201,960,977,977,68,1208,96,75,1283,64,0,0],\"type\":\"bar\"}],                        {\"legend\":{\"bgcolor\":\"#F5F6F9\",\"font\":{\"color\":\"#4D5663\"}},\"paper_bgcolor\":\"#F5F6F9\",\"plot_bgcolor\":\"#F5F6F9\",\"template\":{\"data\":{\"barpolar\":[{\"marker\":{\"line\":{\"color\":\"#E5ECF6\",\"width\":0.5},\"pattern\":{\"fillmode\":\"overlay\",\"size\":10,\"solidity\":0.2}},\"type\":\"barpolar\"}],\"bar\":[{\"error_x\":{\"color\":\"#2a3f5f\"},\"error_y\":{\"color\":\"#2a3f5f\"},\"marker\":{\"line\":{\"color\":\"#E5ECF6\",\"width\":0.5},\"pattern\":{\"fillmode\":\"overlay\",\"size\":10,\"solidity\":0.2}},\"type\":\"bar\"}],\"carpet\":[{\"aaxis\":{\"endlinecolor\":\"#2a3f5f\",\"gridcolor\":\"white\",\"linecolor\":\"white\",\"minorgridcolor\":\"white\",\"startlinecolor\":\"#2a3f5f\"},\"baxis\":{\"endlinecolor\":\"#2a3f5f\",\"gridcolor\":\"white\",\"linecolor\":\"white\",\"minorgridcolor\":\"white\",\"startlinecolor\":\"#2a3f5f\"},\"type\":\"carpet\"}],\"choropleth\":[{\"colorbar\":{\"outlinewidth\":0,\"ticks\":\"\"},\"type\":\"choropleth\"}],\"contourcarpet\":[{\"colorbar\":{\"outlinewidth\":0,\"ticks\":\"\"},\"type\":\"contourcarpet\"}],\"contour\":[{\"colorbar\":{\"outlinewidth\":0,\"ticks\":\"\"},\"colorscale\":[[0.0,\"#0d0887\"],[0.1111111111111111,\"#46039f\"],[0.2222222222222222,\"#7201a8\"],[0.3333333333333333,\"#9c179e\"],[0.4444444444444444,\"#bd3786\"],[0.5555555555555556,\"#d8576b\"],[0.6666666666666666,\"#ed7953\"],[0.7777777777777778,\"#fb9f3a\"],[0.8888888888888888,\"#fdca26\"],[1.0,\"#f0f921\"]],\"type\":\"contour\"}],\"heatmapgl\":[{\"colorbar\":{\"outlinewidth\":0,\"ticks\":\"\"},\"colorscale\":[[0.0,\"#0d0887\"],[0.1111111111111111,\"#46039f\"],[0.2222222222222222,\"#7201a8\"],[0.3333333333333333,\"#9c179e\"],[0.4444444444444444,\"#bd3786\"],[0.5555555555555556,\"#d8576b\"],[0.6666666666666666,\"#ed7953\"],[0.7777777777777778,\"#fb9f3a\"],[0.8888888888888888,\"#fdca26\"],[1.0,\"#f0f921\"]],\"type\":\"heatmapgl\"}],\"heatmap\":[{\"colorbar\":{\"outlinewidth\":0,\"ticks\":\"\"},\"colorscale\":[[0.0,\"#0d0887\"],[0.1111111111111111,\"#46039f\"],[0.2222222222222222,\"#7201a8\"],[0.3333333333333333,\"#9c179e\"],[0.4444444444444444,\"#bd3786\"],[0.5555555555555556,\"#d8576b\"],[0.6666666666666666,\"#ed7953\"],[0.7777777777777778,\"#fb9f3a\"],[0.8888888888888888,\"#fdca26\"],[1.0,\"#f0f921\"]],\"type\":\"heatmap\"}],\"histogram2dcontour\":[{\"colorbar\":{\"outlinewidth\":0,\"ticks\":\"\"},\"colorscale\":[[0.0,\"#0d0887\"],[0.1111111111111111,\"#46039f\"],[0.2222222222222222,\"#7201a8\"],[0.3333333333333333,\"#9c179e\"],[0.4444444444444444,\"#bd3786\"],[0.5555555555555556,\"#d8576b\"],[0.6666666666666666,\"#ed7953\"],[0.7777777777777778,\"#fb9f3a\"],[0.8888888888888888,\"#fdca26\"],[1.0,\"#f0f921\"]],\"type\":\"histogram2dcontour\"}],\"histogram2d\":[{\"colorbar\":{\"outlinewidth\":0,\"ticks\":\"\"},\"colorscale\":[[0.0,\"#0d0887\"],[0.1111111111111111,\"#46039f\"],[0.2222222222222222,\"#7201a8\"],[0.3333333333333333,\"#9c179e\"],[0.4444444444444444,\"#bd3786\"],[0.5555555555555556,\"#d8576b\"],[0.6666666666666666,\"#ed7953\"],[0.7777777777777778,\"#fb9f3a\"],[0.8888888888888888,\"#fdca26\"],[1.0,\"#f0f921\"]],\"type\":\"histogram2d\"}],\"histogram\":[{\"marker\":{\"pattern\":{\"fillmode\":\"overlay\",\"size\":10,\"solidity\":0.2}},\"type\":\"histogram\"}],\"mesh3d\":[{\"colorbar\":{\"outlinewidth\":0,\"ticks\":\"\"},\"type\":\"mesh3d\"}],\"parcoords\":[{\"line\":{\"colorbar\":{\"outlinewidth\":0,\"ticks\":\"\"}},\"type\":\"parcoords\"}],\"pie\":[{\"automargin\":true,\"type\":\"pie\"}],\"scatter3d\":[{\"line\":{\"colorbar\":{\"outlinewidth\":0,\"ticks\":\"\"}},\"marker\":{\"colorbar\":{\"outlinewidth\":0,\"ticks\":\"\"}},\"type\":\"scatter3d\"}],\"scattercarpet\":[{\"marker\":{\"colorbar\":{\"outlinewidth\":0,\"ticks\":\"\"}},\"type\":\"scattercarpet\"}],\"scattergeo\":[{\"marker\":{\"colorbar\":{\"outlinewidth\":0,\"ticks\":\"\"}},\"type\":\"scattergeo\"}],\"scattergl\":[{\"marker\":{\"colorbar\":{\"outlinewidth\":0,\"ticks\":\"\"}},\"type\":\"scattergl\"}],\"scattermapbox\":[{\"marker\":{\"colorbar\":{\"outlinewidth\":0,\"ticks\":\"\"}},\"type\":\"scattermapbox\"}],\"scatterpolargl\":[{\"marker\":{\"colorbar\":{\"outlinewidth\":0,\"ticks\":\"\"}},\"type\":\"scatterpolargl\"}],\"scatterpolar\":[{\"marker\":{\"colorbar\":{\"outlinewidth\":0,\"ticks\":\"\"}},\"type\":\"scatterpolar\"}],\"scatter\":[{\"marker\":{\"colorbar\":{\"outlinewidth\":0,\"ticks\":\"\"}},\"type\":\"scatter\"}],\"scatterternary\":[{\"marker\":{\"colorbar\":{\"outlinewidth\":0,\"ticks\":\"\"}},\"type\":\"scatterternary\"}],\"surface\":[{\"colorbar\":{\"outlinewidth\":0,\"ticks\":\"\"},\"colorscale\":[[0.0,\"#0d0887\"],[0.1111111111111111,\"#46039f\"],[0.2222222222222222,\"#7201a8\"],[0.3333333333333333,\"#9c179e\"],[0.4444444444444444,\"#bd3786\"],[0.5555555555555556,\"#d8576b\"],[0.6666666666666666,\"#ed7953\"],[0.7777777777777778,\"#fb9f3a\"],[0.8888888888888888,\"#fdca26\"],[1.0,\"#f0f921\"]],\"type\":\"surface\"}],\"table\":[{\"cells\":{\"fill\":{\"color\":\"#EBF0F8\"},\"line\":{\"color\":\"white\"}},\"header\":{\"fill\":{\"color\":\"#C8D4E3\"},\"line\":{\"color\":\"white\"}},\"type\":\"table\"}]},\"layout\":{\"annotationdefaults\":{\"arrowcolor\":\"#2a3f5f\",\"arrowhead\":0,\"arrowwidth\":1},\"autotypenumbers\":\"strict\",\"coloraxis\":{\"colorbar\":{\"outlinewidth\":0,\"ticks\":\"\"}},\"colorscale\":{\"diverging\":[[0,\"#8e0152\"],[0.1,\"#c51b7d\"],[0.2,\"#de77ae\"],[0.3,\"#f1b6da\"],[0.4,\"#fde0ef\"],[0.5,\"#f7f7f7\"],[0.6,\"#e6f5d0\"],[0.7,\"#b8e186\"],[0.8,\"#7fbc41\"],[0.9,\"#4d9221\"],[1,\"#276419\"]],\"sequential\":[[0.0,\"#0d0887\"],[0.1111111111111111,\"#46039f\"],[0.2222222222222222,\"#7201a8\"],[0.3333333333333333,\"#9c179e\"],[0.4444444444444444,\"#bd3786\"],[0.5555555555555556,\"#d8576b\"],[0.6666666666666666,\"#ed7953\"],[0.7777777777777778,\"#fb9f3a\"],[0.8888888888888888,\"#fdca26\"],[1.0,\"#f0f921\"]],\"sequentialminus\":[[0.0,\"#0d0887\"],[0.1111111111111111,\"#46039f\"],[0.2222222222222222,\"#7201a8\"],[0.3333333333333333,\"#9c179e\"],[0.4444444444444444,\"#bd3786\"],[0.5555555555555556,\"#d8576b\"],[0.6666666666666666,\"#ed7953\"],[0.7777777777777778,\"#fb9f3a\"],[0.8888888888888888,\"#fdca26\"],[1.0,\"#f0f921\"]]},\"colorway\":[\"#636efa\",\"#EF553B\",\"#00cc96\",\"#ab63fa\",\"#FFA15A\",\"#19d3f3\",\"#FF6692\",\"#B6E880\",\"#FF97FF\",\"#FECB52\"],\"font\":{\"color\":\"#2a3f5f\"},\"geo\":{\"bgcolor\":\"white\",\"lakecolor\":\"white\",\"landcolor\":\"#E5ECF6\",\"showlakes\":true,\"showland\":true,\"subunitcolor\":\"white\"},\"hoverlabel\":{\"align\":\"left\"},\"hovermode\":\"closest\",\"mapbox\":{\"style\":\"light\"},\"paper_bgcolor\":\"white\",\"plot_bgcolor\":\"#E5ECF6\",\"polar\":{\"angularaxis\":{\"gridcolor\":\"white\",\"linecolor\":\"white\",\"ticks\":\"\"},\"bgcolor\":\"#E5ECF6\",\"radialaxis\":{\"gridcolor\":\"white\",\"linecolor\":\"white\",\"ticks\":\"\"}},\"scene\":{\"xaxis\":{\"backgroundcolor\":\"#E5ECF6\",\"gridcolor\":\"white\",\"gridwidth\":2,\"linecolor\":\"white\",\"showbackground\":true,\"ticks\":\"\",\"zerolinecolor\":\"white\"},\"yaxis\":{\"backgroundcolor\":\"#E5ECF6\",\"gridcolor\":\"white\",\"gridwidth\":2,\"linecolor\":\"white\",\"showbackground\":true,\"ticks\":\"\",\"zerolinecolor\":\"white\"},\"zaxis\":{\"backgroundcolor\":\"#E5ECF6\",\"gridcolor\":\"white\",\"gridwidth\":2,\"linecolor\":\"white\",\"showbackground\":true,\"ticks\":\"\",\"zerolinecolor\":\"white\"}},\"shapedefaults\":{\"line\":{\"color\":\"#2a3f5f\"}},\"ternary\":{\"aaxis\":{\"gridcolor\":\"white\",\"linecolor\":\"white\",\"ticks\":\"\"},\"baxis\":{\"gridcolor\":\"white\",\"linecolor\":\"white\",\"ticks\":\"\"},\"bgcolor\":\"#E5ECF6\",\"caxis\":{\"gridcolor\":\"white\",\"linecolor\":\"white\",\"ticks\":\"\"}},\"title\":{\"x\":0.05},\"xaxis\":{\"automargin\":true,\"gridcolor\":\"white\",\"linecolor\":\"white\",\"ticks\":\"\",\"title\":{\"standoff\":15},\"zerolinecolor\":\"white\",\"zerolinewidth\":2},\"yaxis\":{\"automargin\":true,\"gridcolor\":\"white\",\"linecolor\":\"white\",\"ticks\":\"\",\"title\":{\"standoff\":15},\"zerolinecolor\":\"white\",\"zerolinewidth\":2}}},\"title\":{\"font\":{\"color\":\"#4D5663\"},\"text\":\"<b>Missing Values Count in Dataset</b>\"},\"xaxis\":{\"gridcolor\":\"#E1E5ED\",\"showgrid\":true,\"tickfont\":{\"color\":\"#4D5663\"},\"title\":{\"font\":{\"color\":\"#4D5663\"},\"text\":\"Features\"},\"zerolinecolor\":\"#E1E5ED\"},\"yaxis\":{\"gridcolor\":\"#E1E5ED\",\"showgrid\":true,\"tickfont\":{\"color\":\"#4D5663\"},\"title\":{\"font\":{\"color\":\"#4D5663\"},\"text\":\"Count\"},\"zerolinecolor\":\"#E1E5ED\"}},                        {\"showLink\": true, \"linkText\": \"Export to plot.ly\", \"plotlyServerURL\": \"https://plot.ly\", \"responsive\": true}                    ).then(function(){\n",
       "                            \n",
       "var gd = document.getElementById('173d6216-202c-4fe3-973e-ad7c79cd85a7');\n",
       "var x = new MutationObserver(function (mutations, observer) {{\n",
       "        var display = window.getComputedStyle(gd).display;\n",
       "        if (!display || display === 'none') {{\n",
       "            console.log([gd, 'removed!']);\n",
       "            Plotly.purge(gd);\n",
       "            observer.disconnect();\n",
       "        }}\n",
       "}});\n",
       "\n",
       "// Listen for the removal of the full notebook cells\n",
       "var notebookContainer = gd.closest('#notebook-container');\n",
       "if (notebookContainer) {{\n",
       "    x.observe(notebookContainer, {childList: true});\n",
       "}}\n",
       "\n",
       "// Listen for the clearing of the current output cell\n",
       "var outputEl = gd.closest('.output');\n",
       "if (outputEl) {{\n",
       "    x.observe(outputEl, {childList: true});\n",
       "}}\n",
       "\n",
       "                        })                };                });            </script>        </div>"
      ]
     },
     "metadata": {},
     "output_type": "display_data"
    }
   ],
   "source": [
    "from plotly.offline import download_plotlyjs, init_notebook_mode, plot, iplot\n",
    "\n",
    "import cufflinks as cf\n",
    "cf.go_offline()\n",
    "cf.set_config_file(offline=False, world_readable=True)\n",
    "\n",
    "missing=train.isna().sum().reset_index()\n",
    "missing.columns=['features','total_missing']\n",
    "missing['percent']=(missing['total_missing']/len(train))*100\n",
    "missing.index=missing.features\n",
    "del missing['features']\n",
    "\n",
    "missing['total_missing'].iplot(kind='bar',title=f'<b>Missing Values Count in Dataset</b>',\n",
    "                              xTitle='Features',colors='red',yTitle='Count')"
   ]
  },
  {
   "cell_type": "code",
   "execution_count": 5,
   "id": "3e27f983",
   "metadata": {
    "execution": {
     "iopub.execute_input": "2022-04-14T13:33:15.587328Z",
     "iopub.status.busy": "2022-04-14T13:33:15.586642Z",
     "iopub.status.idle": "2022-04-14T13:33:15.595493Z",
     "shell.execute_reply": "2022-04-14T13:33:15.595880Z",
     "shell.execute_reply.started": "2022-04-14T12:58:51.136180Z"
    },
    "papermill": {
     "duration": 0.06959,
     "end_time": "2022-04-14T13:33:15.596066",
     "exception": false,
     "start_time": "2022-04-14T13:33:15.526476",
     "status": "completed"
    },
    "tags": []
   },
   "outputs": [
    {
     "data": {
      "text/plain": [
       "0    3446\n",
       "1     554\n",
       "Name: In-hospital_death, dtype: int64"
      ]
     },
     "execution_count": 5,
     "metadata": {},
     "output_type": "execute_result"
    }
   ],
   "source": [
    "train['In-hospital_death'].value_counts()"
   ]
  },
  {
   "cell_type": "markdown",
   "id": "9ebf9f98",
   "metadata": {
    "papermill": {
     "duration": 0.057331,
     "end_time": "2022-04-14T13:33:15.710389",
     "exception": false,
     "start_time": "2022-04-14T13:33:15.653058",
     "status": "completed"
    },
    "tags": []
   },
   "source": [
    "# Mortality Distribution"
   ]
  },
  {
   "cell_type": "code",
   "execution_count": 6,
   "id": "f9ba61fd",
   "metadata": {
    "execution": {
     "iopub.execute_input": "2022-04-14T13:33:15.834720Z",
     "iopub.status.busy": "2022-04-14T13:33:15.834060Z",
     "iopub.status.idle": "2022-04-14T13:33:16.135776Z",
     "shell.execute_reply": "2022-04-14T13:33:16.135304Z",
     "shell.execute_reply.started": "2022-04-14T12:58:51.148320Z"
    },
    "papermill": {
     "duration": 0.36598,
     "end_time": "2022-04-14T13:33:16.135918",
     "exception": false,
     "start_time": "2022-04-14T13:33:15.769938",
     "status": "completed"
    },
    "tags": []
   },
   "outputs": [
    {
     "name": "stderr",
     "output_type": "stream",
     "text": [
      "/opt/conda/lib/python3.7/site-packages/seaborn/_decorators.py:43: FutureWarning:\n",
      "\n",
      "Pass the following variable as a keyword arg: x. From version 0.12, the only valid positional argument will be `data`, and passing other arguments without an explicit keyword will result in an error or misinterpretation.\n",
      "\n"
     ]
    },
    {
     "data": {
      "image/png": "[encoded data removed]",
      "text/plain": [
       "<Figure size 864x1296 with 1 Axes>"
      ]
     },
     "metadata": {
      "needs_background": "light"
     },
     "output_type": "display_data"
    }
   ],
   "source": [
    "import matplotlib.pyplot as plt\n",
    "import seaborn as sns\n",
    "plt.figure(figsize=(12,18))\n",
    "ax=sns.countplot(train['In-hospital_death'])\n",
    "plt.title('Mortality Distribution')\n",
    "for p in ax.patches:\n",
    "    height=p.get_height()\n",
    "    ax.text(p.get_x()+p.get_width()/2.0, height+3,\n",
    "    f\"{round(100*height/len(train),2)}%\",\n",
    "    ha='center')"
   ]
  },
  {
   "cell_type": "markdown",
   "id": "cf974405",
   "metadata": {
    "papermill": {
     "duration": 0.058028,
     "end_time": "2022-04-14T13:33:16.252243",
     "exception": false,
     "start_time": "2022-04-14T13:33:16.194215",
     "status": "completed"
    },
    "tags": []
   },
   "source": [
    "# Mortality Distribution by Gender"
   ]
  },
  {
   "cell_type": "code",
   "execution_count": 7,
   "id": "6f4382b2",
   "metadata": {
    "execution": {
     "iopub.execute_input": "2022-04-14T13:33:16.372524Z",
     "iopub.status.busy": "2022-04-14T13:33:16.371894Z",
     "iopub.status.idle": "2022-04-14T13:33:16.602064Z",
     "shell.execute_reply": "2022-04-14T13:33:16.602467Z",
     "shell.execute_reply.started": "2022-04-14T12:58:51.465653Z"
    },
    "papermill": {
     "duration": 0.292004,
     "end_time": "2022-04-14T13:33:16.602639",
     "exception": false,
     "start_time": "2022-04-14T13:33:16.310635",
     "status": "completed"
    },
    "tags": []
   },
   "outputs": [
    {
     "data": {
      "image/png": "[encoded data removed]",
      "text/plain": [
       "<Figure size 576x576 with 1 Axes>"
      ]
     },
     "metadata": {
      "needs_background": "light"
     },
     "output_type": "display_data"
    }
   ],
   "source": [
    "plt.figure(figsize = (8, 8))\n",
    "plt.title('Mortality by Gender')\n",
    "ax = sns.countplot(x = 'Gender', data = train, hue = 'In-hospital_death')\n",
    "for p in ax.patches:\n",
    "        height = p.get_height()\n",
    "        ax.text(p.get_x() + p.get_width() / 2.0, height + 3,\n",
    "                f\"{round(100 * height / len(train), 2)}%\",\n",
    "                ha = 'center')"
   ]
  },
  {
   "cell_type": "markdown",
   "id": "a6acf3bb",
   "metadata": {
    "papermill": {
     "duration": 0.058892,
     "end_time": "2022-04-14T13:33:16.720247",
     "exception": false,
     "start_time": "2022-04-14T13:33:16.661355",
     "status": "completed"
    },
    "tags": []
   },
   "source": [
    "* **Mortality is almost same in both male and female**"
   ]
  },
  {
   "cell_type": "markdown",
   "id": "ef4aca22",
   "metadata": {
    "papermill": {
     "duration": 0.058797,
     "end_time": "2022-04-14T13:33:16.839689",
     "exception": false,
     "start_time": "2022-04-14T13:33:16.780892",
     "status": "completed"
    },
    "tags": []
   },
   "source": [
    "# Mortality Distribution by ICU TYPE"
   ]
  },
  {
   "cell_type": "code",
   "execution_count": 8,
   "id": "9516fcfe",
   "metadata": {
    "execution": {
     "iopub.execute_input": "2022-04-14T13:33:16.973509Z",
     "iopub.status.busy": "2022-04-14T13:33:16.972877Z",
     "iopub.status.idle": "2022-04-14T13:33:17.370212Z",
     "shell.execute_reply": "2022-04-14T13:33:17.368992Z",
     "shell.execute_reply.started": "2022-04-14T12:58:51.721395Z"
    },
    "papermill": {
     "duration": 0.471571,
     "end_time": "2022-04-14T13:33:17.370362",
     "exception": false,
     "start_time": "2022-04-14T13:33:16.898791",
     "status": "completed"
    },
    "tags": []
   },
   "outputs": [
    {
     "name": "stderr",
     "output_type": "stream",
     "text": [
      "/opt/conda/lib/python3.7/site-packages/seaborn/_decorators.py:43: FutureWarning:\n",
      "\n",
      "Pass the following variable as a keyword arg: x. From version 0.12, the only valid positional argument will be `data`, and passing other arguments without an explicit keyword will result in an error or misinterpretation.\n",
      "\n"
     ]
    },
    {
     "data": {
      "image/png": "[encoded data removed]",
      "text/plain": [
       "<Figure size 1296x576 with 2 Axes>"
      ]
     },
     "metadata": {
      "needs_background": "light"
     },
     "output_type": "display_data"
    }
   ],
   "source": [
    "plt.figure(figsize=(18,8))\n",
    "plt.subplot(1,2,1)\n",
    "sns.countplot(train['ICUType'])\n",
    "plt.title('ICU Type Distribution')\n",
    "ax=sns.countplot(x='ICUType',data=train)\n",
    "for p in ax.patches:\n",
    "    height=p.get_height()\n",
    "    ax.text(p.get_x()+p.get_width()/2.0,height+3,f\"{round(100*height/len(train),2)}%\",ha='center')\n",
    "    \n",
    "plt.subplot(1,2,2)\n",
    "plt.title('ICU Distribution by Mortality')\n",
    "ax=sns.countplot(x='ICUType',data=train,hue='In-hospital_death')\n",
    "for p in ax.patches:\n",
    "    height=p.get_height()\n",
    "    ax.text(p.get_x()+p.get_width()/2.0,height + 3,f\"{round(100*height/len(train),2)}%\",ha='center')\n",
    "    "
   ]
  },
  {
   "cell_type": "markdown",
   "id": "fac5b5f2",
   "metadata": {
    "papermill": {
     "duration": 0.060201,
     "end_time": "2022-04-14T13:33:17.491179",
     "exception": false,
     "start_time": "2022-04-14T13:33:17.430978",
     "status": "completed"
    },
    "tags": []
   },
   "source": [
    "* **Mortality is higher in ICU Type 3.0 and 4.0.**"
   ]
  },
  {
   "cell_type": "markdown",
   "id": "da87588f",
   "metadata": {
    "papermill": {
     "duration": 0.060079,
     "end_time": "2022-04-14T13:33:17.612006",
     "exception": false,
     "start_time": "2022-04-14T13:33:17.551927",
     "status": "completed"
    },
    "tags": []
   },
   "source": [
    "# Patient's Age Histogram"
   ]
  },
  {
   "cell_type": "code",
   "execution_count": 9,
   "id": "792881f3",
   "metadata": {
    "execution": {
     "iopub.execute_input": "2022-04-14T13:33:17.739244Z",
     "iopub.status.busy": "2022-04-14T13:33:17.738580Z",
     "iopub.status.idle": "2022-04-14T13:33:18.064817Z",
     "shell.execute_reply": "2022-04-14T13:33:18.065291Z",
     "shell.execute_reply.started": "2022-04-14T12:58:52.189860Z"
    },
    "papermill": {
     "duration": 0.39285,
     "end_time": "2022-04-14T13:33:18.065462",
     "exception": false,
     "start_time": "2022-04-14T13:33:17.672612",
     "status": "completed"
    },
    "tags": []
   },
   "outputs": [
    {
     "data": {
      "text/plain": [
       "<AxesSubplot:title={'center':\"Histogram Distribution of Patient's Age\"}, xlabel='Age', ylabel='Count'>"
      ]
     },
     "execution_count": 9,
     "metadata": {},
     "output_type": "execute_result"
    },
    {
     "data": {
      "image/png": "[encoded data removed]",
      "text/plain": [
       "<Figure size 1152x576 with 1 Axes>"
      ]
     },
     "metadata": {
      "needs_background": "light"
     },
     "output_type": "display_data"
    }
   ],
   "source": [
    "plt.figure(figsize=(16,8))\n",
    "plt.title(\"Histogram Distribution of Patient's Age\")\n",
    "sns.histplot(train['Age'],color='green',kde=True)"
   ]
  },
  {
   "cell_type": "markdown",
   "id": "f27d5884",
   "metadata": {
    "papermill": {
     "duration": 0.061529,
     "end_time": "2022-04-14T13:33:18.188617",
     "exception": false,
     "start_time": "2022-04-14T13:33:18.127088",
     "status": "completed"
    },
    "tags": []
   },
   "source": [
    "* **Most of the ICU patients are higher in Age**"
   ]
  },
  {
   "cell_type": "markdown",
   "id": "68ffefc7",
   "metadata": {
    "papermill": {
     "duration": 0.061341,
     "end_time": "2022-04-14T13:33:18.311935",
     "exception": false,
     "start_time": "2022-04-14T13:33:18.250594",
     "status": "completed"
    },
    "tags": []
   },
   "source": [
    "# **Mortality by Age Group**"
   ]
  },
  {
   "cell_type": "code",
   "execution_count": 10,
   "id": "e770ea14",
   "metadata": {
    "execution": {
     "iopub.execute_input": "2022-04-14T13:33:18.439181Z",
     "iopub.status.busy": "2022-04-14T13:33:18.438586Z",
     "iopub.status.idle": "2022-04-14T13:33:18.443241Z",
     "shell.execute_reply": "2022-04-14T13:33:18.443775Z",
     "shell.execute_reply.started": "2022-04-14T12:58:52.550877Z"
    },
    "papermill": {
     "duration": 0.069693,
     "end_time": "2022-04-14T13:33:18.443948",
     "exception": false,
     "start_time": "2022-04-14T13:33:18.374255",
     "status": "completed"
    },
    "tags": []
   },
   "outputs": [
    {
     "data": {
      "text/plain": [
       "0.1"
      ]
     },
     "execution_count": 10,
     "metadata": {},
     "output_type": "execute_result"
    }
   ],
   "source": [
    "round(410/4000,2)"
   ]
  },
  {
   "cell_type": "code",
   "execution_count": 11,
   "id": "2d8a5e17",
   "metadata": {
    "execution": {
     "iopub.execute_input": "2022-04-14T13:33:18.571366Z",
     "iopub.status.busy": "2022-04-14T13:33:18.570727Z",
     "iopub.status.idle": "2022-04-14T13:33:19.249129Z",
     "shell.execute_reply": "2022-04-14T13:33:19.249574Z",
     "shell.execute_reply.started": "2022-04-14T12:58:52.559726Z"
    },
    "papermill": {
     "duration": 0.743779,
     "end_time": "2022-04-14T13:33:19.249739",
     "exception": false,
     "start_time": "2022-04-14T13:33:18.505960",
     "status": "completed"
    },
    "tags": []
   },
   "outputs": [
    {
     "data": {
      "image/png": "[encoded data removed]",
      "text/plain": [
       "<Figure size 1440x720 with 2 Axes>"
      ]
     },
     "metadata": {
      "needs_background": "light"
     },
     "output_type": "display_data"
    }
   ],
   "source": [
    "train['age_group']=pd.cut(train['Age'],bins=9,labels=['<20','20s','30s','40s','50s','60s','70s','80s','90s'])\n",
    "\n",
    "plt.figure(figsize=(20,10))\n",
    "plt.subplot(1,2,1)\n",
    "plt.title('Mortality by Age Group')\n",
    "ax=sns.countplot(x='age_group',data=train,hue='In-hospital_death',palette='Set1')\n",
    "for p in ax.patches:\n",
    "    height=p.get_height()\n",
    "    ax.text(p.get_x()+p.get_width()/2.0,height+3,f\"{round(100*height/len(train),2)}%\",ha='center')\n",
    "    \n",
    "plt.subplot(1,2,2)\n",
    "plt.title('ICU Patients by Gender')\n",
    "ax=sns.countplot(x='age_group',data=train,hue='Gender',palette='Set2')\n",
    "for p in ax.patches:\n",
    "    height=p.get_height()\n",
    "    ax.text(p.get_x()+ p.get_width()/2.0,height+3,f\"{round(100 * height/len(train),2)}%\",ha='center')"
   ]
  },
  {
   "cell_type": "markdown",
   "id": "a1dcaf4c",
   "metadata": {
    "papermill": {
     "duration": 0.063883,
     "end_time": "2022-04-14T13:33:19.377555",
     "exception": false,
     "start_time": "2022-04-14T13:33:19.313672",
     "status": "completed"
    },
    "tags": []
   },
   "source": [
    "* **Mortality is more for patients in higher age group.**\n",
    "* **More male patients are in ICU than Female patient.**"
   ]
  },
  {
   "cell_type": "markdown",
   "id": "09c2a7b7",
   "metadata": {
    "papermill": {
     "duration": 0.06411,
     "end_time": "2022-04-14T13:33:19.505656",
     "exception": false,
     "start_time": "2022-04-14T13:33:19.441546",
     "status": "completed"
    },
    "tags": []
   },
   "source": [
    "# Height and Weight data distribution along with mean/median"
   ]
  },
  {
   "cell_type": "code",
   "execution_count": 12,
   "id": "9f0f8dd5",
   "metadata": {
    "execution": {
     "iopub.execute_input": "2022-04-14T13:33:19.637083Z",
     "iopub.status.busy": "2022-04-14T13:33:19.636457Z",
     "iopub.status.idle": "2022-04-14T13:33:20.112424Z",
     "shell.execute_reply": "2022-04-14T13:33:20.111841Z",
     "shell.execute_reply.started": "2022-04-14T12:58:53.357790Z"
    },
    "papermill": {
     "duration": 0.542762,
     "end_time": "2022-04-14T13:33:20.112559",
     "exception": false,
     "start_time": "2022-04-14T13:33:19.569797",
     "status": "completed"
    },
    "tags": []
   },
   "outputs": [
    {
     "data": {
      "text/plain": [
       "<matplotlib.lines.Line2D at 0x7fdb22292210>"
      ]
     },
     "execution_count": 12,
     "metadata": {},
     "output_type": "execute_result"
    },
    {
     "data": {
      "image/png": "[encoded data removed]",
      "text/plain": [
       "<Figure size 1440x720 with 2 Axes>"
      ]
     },
     "metadata": {
      "needs_background": "light"
     },
     "output_type": "display_data"
    }
   ],
   "source": [
    "plt.figure(figsize=(20,10))\n",
    "plt.subplot(1,2,1)\n",
    "plt.title(f\"Mean Height: {round(train['Height'].mean(),2)};Median Height:{train['Height'].median()}\")\n",
    "ax=sns.kdeplot(x='Height',data=train)\n",
    "ax.axvline(train['Height'].mean(),ls='--',color='b')\n",
    "\n",
    "plt.subplot(1,2,2)\n",
    "plt.title(f\"Mean Weight:{round(train['Weight'].mean(),2)};Median Weight:{train['Weight'].median()}\")\n",
    "ax=sns.kdeplot(x='Weight',data=train)\n",
    "ax.axvline(train['Weight'].mean(),ls='--',color='r')"
   ]
  },
  {
   "cell_type": "markdown",
   "id": "965e814b",
   "metadata": {
    "papermill": {
     "duration": 0.065927,
     "end_time": "2022-04-14T13:33:20.244056",
     "exception": false,
     "start_time": "2022-04-14T13:33:20.178129",
     "status": "completed"
    },
    "tags": []
   },
   "source": [
    "# Calculating the BMI Index"
   ]
  },
  {
   "cell_type": "markdown",
   "id": "76324141",
   "metadata": {
    "papermill": {
     "duration": 0.065957,
     "end_time": "2022-04-14T13:33:20.376420",
     "exception": false,
     "start_time": "2022-04-14T13:33:20.310463",
     "status": "completed"
    },
    "tags": []
   },
   "source": [
    "* Now we calculate the Body Mass Index (BMI) of patients to check how it affects their mortality\n",
    "* To calculate the BMI of patients in ICU we need impute NaNs in Height and Weight features\n",
    "* We impute using their Median value\n",
    "* The formula is BMI = kg/m2 where kg is a person's weight in kilograms and m2 is their height in metres squared\n",
    "* Height in our dataset is in cm (centimeters) so the formula is weight (kg) / [height (cm)]^2 x 10,000"
   ]
  },
  {
   "cell_type": "code",
   "execution_count": 13,
   "id": "c84e256b",
   "metadata": {
    "execution": {
     "iopub.execute_input": "2022-04-14T13:33:20.511815Z",
     "iopub.status.busy": "2022-04-14T13:33:20.511223Z",
     "iopub.status.idle": "2022-04-14T13:33:20.592895Z",
     "shell.execute_reply": "2022-04-14T13:33:20.593641Z",
     "shell.execute_reply.started": "2022-04-14T12:58:53.909335Z"
    },
    "papermill": {
     "duration": 0.151538,
     "end_time": "2022-04-14T13:33:20.593909",
     "exception": false,
     "start_time": "2022-04-14T13:33:20.442371",
     "status": "completed"
    },
    "tags": []
   },
   "outputs": [],
   "source": [
    "#using median because the data is skewed and it is more resistant to outliers than mean\n",
    "train['Height']=train['Height'].fillna(train['Height'].median())\n",
    "train['Weight']=train['Weight'].fillna(train['Weight'].median())\n",
    "train['bmi']=train.apply(lambda x:round((x['Weight']/(x['Height']**2))*10000,2),axis=1)\n",
    "train['bmi_group']=pd.cut(train['bmi'],bins=[train['bmi'].min(),18.5,24.9,29.9,train['bmi'].max()],\n",
    "                         labels=['Underweight','Healthy','Overweight','Obesity'])\n",
    "del train['bmi']\n"
   ]
  },
  {
   "cell_type": "code",
   "execution_count": 14,
   "id": "3ffb10cb",
   "metadata": {
    "execution": {
     "iopub.execute_input": "2022-04-14T13:33:20.733089Z",
     "iopub.status.busy": "2022-04-14T13:33:20.732496Z",
     "iopub.status.idle": "2022-04-14T13:33:20.760791Z",
     "shell.execute_reply": "2022-04-14T13:33:20.760201Z",
     "shell.execute_reply.started": "2022-04-14T12:58:54.020469Z"
    },
    "papermill": {
     "duration": 0.098618,
     "end_time": "2022-04-14T13:33:20.760923",
     "exception": false,
     "start_time": "2022-04-14T13:33:20.662305",
     "status": "completed"
    },
    "tags": []
   },
   "outputs": [
    {
     "data": {
      "text/html": [
       "<div>\n",
       "<style scoped>\n",
       "    .dataframe tbody tr th:only-of-type {\n",
       "        vertical-align: middle;\n",
       "    }\n",
       "\n",
       "    .dataframe tbody tr th {\n",
       "        vertical-align: top;\n",
       "    }\n",
       "\n",
       "    .dataframe thead th {\n",
       "        text-align: right;\n",
       "    }\n",
       "</style>\n",
       "<table border=\"1\" class=\"dataframe\">\n",
       "  <thead>\n",
       "    <tr style=\"text-align: right;\">\n",
       "      <th></th>\n",
       "      <th>RecordID</th>\n",
       "      <th>Age</th>\n",
       "      <th>Gender</th>\n",
       "      <th>Height</th>\n",
       "      <th>Weight</th>\n",
       "      <th>Urine</th>\n",
       "      <th>HR</th>\n",
       "      <th>Temp</th>\n",
       "      <th>NIDiasABP</th>\n",
       "      <th>SysABP</th>\n",
       "      <th>...</th>\n",
       "      <th>Platelets</th>\n",
       "      <th>MAP</th>\n",
       "      <th>K</th>\n",
       "      <th>Na</th>\n",
       "      <th>FiO2</th>\n",
       "      <th>GCS</th>\n",
       "      <th>ICUType</th>\n",
       "      <th>In-hospital_death</th>\n",
       "      <th>age_group</th>\n",
       "      <th>bmi_group</th>\n",
       "    </tr>\n",
       "  </thead>\n",
       "  <tbody>\n",
       "    <tr>\n",
       "      <th>0</th>\n",
       "      <td>137021.0</td>\n",
       "      <td>66.0</td>\n",
       "      <td>1.0</td>\n",
       "      <td>177.8</td>\n",
       "      <td>102.00</td>\n",
       "      <td>117.50</td>\n",
       "      <td>113.41</td>\n",
       "      <td>37.23</td>\n",
       "      <td>56.61</td>\n",
       "      <td>NaN</td>\n",
       "      <td>...</td>\n",
       "      <td>209.00</td>\n",
       "      <td>NaN</td>\n",
       "      <td>4.25</td>\n",
       "      <td>137.00</td>\n",
       "      <td>NaN</td>\n",
       "      <td>15.00</td>\n",
       "      <td>2.0</td>\n",
       "      <td>0</td>\n",
       "      <td>70s</td>\n",
       "      <td>Obesity</td>\n",
       "    </tr>\n",
       "    <tr>\n",
       "      <th>1</th>\n",
       "      <td>133611.0</td>\n",
       "      <td>50.0</td>\n",
       "      <td>1.0</td>\n",
       "      <td>170.2</td>\n",
       "      <td>92.40</td>\n",
       "      <td>210.51</td>\n",
       "      <td>85.93</td>\n",
       "      <td>38.04</td>\n",
       "      <td>58.60</td>\n",
       "      <td>126.69</td>\n",
       "      <td>...</td>\n",
       "      <td>243.33</td>\n",
       "      <td>88.02</td>\n",
       "      <td>4.38</td>\n",
       "      <td>144.00</td>\n",
       "      <td>0.51</td>\n",
       "      <td>6.88</td>\n",
       "      <td>4.0</td>\n",
       "      <td>0</td>\n",
       "      <td>50s</td>\n",
       "      <td>Obesity</td>\n",
       "    </tr>\n",
       "    <tr>\n",
       "      <th>2</th>\n",
       "      <td>137860.0</td>\n",
       "      <td>40.0</td>\n",
       "      <td>1.0</td>\n",
       "      <td>185.4</td>\n",
       "      <td>81.80</td>\n",
       "      <td>467.41</td>\n",
       "      <td>98.83</td>\n",
       "      <td>36.83</td>\n",
       "      <td>57.88</td>\n",
       "      <td>157.63</td>\n",
       "      <td>...</td>\n",
       "      <td>143.33</td>\n",
       "      <td>108.53</td>\n",
       "      <td>4.33</td>\n",
       "      <td>139.67</td>\n",
       "      <td>0.55</td>\n",
       "      <td>7.65</td>\n",
       "      <td>4.0</td>\n",
       "      <td>0</td>\n",
       "      <td>30s</td>\n",
       "      <td>Healthy</td>\n",
       "    </tr>\n",
       "    <tr>\n",
       "      <th>3</th>\n",
       "      <td>134781.0</td>\n",
       "      <td>58.0</td>\n",
       "      <td>1.0</td>\n",
       "      <td>180.3</td>\n",
       "      <td>99.22</td>\n",
       "      <td>86.55</td>\n",
       "      <td>81.63</td>\n",
       "      <td>36.96</td>\n",
       "      <td>49.64</td>\n",
       "      <td>113.86</td>\n",
       "      <td>...</td>\n",
       "      <td>109.60</td>\n",
       "      <td>78.06</td>\n",
       "      <td>4.07</td>\n",
       "      <td>137.75</td>\n",
       "      <td>0.58</td>\n",
       "      <td>13.50</td>\n",
       "      <td>2.0</td>\n",
       "      <td>0</td>\n",
       "      <td>60s</td>\n",
       "      <td>Obesity</td>\n",
       "    </tr>\n",
       "    <tr>\n",
       "      <th>4</th>\n",
       "      <td>133534.0</td>\n",
       "      <td>80.0</td>\n",
       "      <td>1.0</td>\n",
       "      <td>170.2</td>\n",
       "      <td>73.00</td>\n",
       "      <td>194.12</td>\n",
       "      <td>71.86</td>\n",
       "      <td>37.10</td>\n",
       "      <td>72.85</td>\n",
       "      <td>NaN</td>\n",
       "      <td>...</td>\n",
       "      <td>NaN</td>\n",
       "      <td>NaN</td>\n",
       "      <td>NaN</td>\n",
       "      <td>NaN</td>\n",
       "      <td>NaN</td>\n",
       "      <td>15.00</td>\n",
       "      <td>3.0</td>\n",
       "      <td>0</td>\n",
       "      <td>80s</td>\n",
       "      <td>Overweight</td>\n",
       "    </tr>\n",
       "  </tbody>\n",
       "</table>\n",
       "<p>5 rows × 24 columns</p>\n",
       "</div>"
      ],
      "text/plain": [
       "   RecordID   Age  Gender  Height  Weight   Urine      HR   Temp  NIDiasABP  \\\n",
       "0  137021.0  66.0     1.0   177.8  102.00  117.50  113.41  37.23      56.61   \n",
       "1  133611.0  50.0     1.0   170.2   92.40  210.51   85.93  38.04      58.60   \n",
       "2  137860.0  40.0     1.0   185.4   81.80  467.41   98.83  36.83      57.88   \n",
       "3  134781.0  58.0     1.0   180.3   99.22   86.55   81.63  36.96      49.64   \n",
       "4  133534.0  80.0     1.0   170.2   73.00  194.12   71.86  37.10      72.85   \n",
       "\n",
       "   SysABP  ...  Platelets     MAP     K      Na  FiO2    GCS  ICUType  \\\n",
       "0     NaN  ...     209.00     NaN  4.25  137.00   NaN  15.00      2.0   \n",
       "1  126.69  ...     243.33   88.02  4.38  144.00  0.51   6.88      4.0   \n",
       "2  157.63  ...     143.33  108.53  4.33  139.67  0.55   7.65      4.0   \n",
       "3  113.86  ...     109.60   78.06  4.07  137.75  0.58  13.50      2.0   \n",
       "4     NaN  ...        NaN     NaN   NaN     NaN   NaN  15.00      3.0   \n",
       "\n",
       "   In-hospital_death  age_group   bmi_group  \n",
       "0                  0        70s     Obesity  \n",
       "1                  0        50s     Obesity  \n",
       "2                  0        30s     Healthy  \n",
       "3                  0        60s     Obesity  \n",
       "4                  0        80s  Overweight  \n",
       "\n",
       "[5 rows x 24 columns]"
      ]
     },
     "execution_count": 14,
     "metadata": {},
     "output_type": "execute_result"
    }
   ],
   "source": [
    "train.head()"
   ]
  },
  {
   "cell_type": "markdown",
   "id": "6fc53859",
   "metadata": {
    "papermill": {
     "duration": 0.068603,
     "end_time": "2022-04-14T13:33:20.898527",
     "exception": false,
     "start_time": "2022-04-14T13:33:20.829924",
     "status": "completed"
    },
    "tags": []
   },
   "source": [
    "# BMI Distribution by Mortality and Gender"
   ]
  },
  {
   "cell_type": "code",
   "execution_count": 15,
   "id": "ec02f33d",
   "metadata": {
    "execution": {
     "iopub.execute_input": "2022-04-14T13:33:21.041608Z",
     "iopub.status.busy": "2022-04-14T13:33:21.040924Z",
     "iopub.status.idle": "2022-04-14T13:33:21.727978Z",
     "shell.execute_reply": "2022-04-14T13:33:21.728450Z",
     "shell.execute_reply.started": "2022-04-14T12:58:54.058155Z"
    },
    "papermill": {
     "duration": 0.763188,
     "end_time": "2022-04-14T13:33:21.728613",
     "exception": false,
     "start_time": "2022-04-14T13:33:20.965425",
     "status": "completed"
    },
    "tags": []
   },
   "outputs": [
    {
     "name": "stderr",
     "output_type": "stream",
     "text": [
      "/opt/conda/lib/python3.7/site-packages/seaborn/_decorators.py:43: FutureWarning:\n",
      "\n",
      "Pass the following variable as a keyword arg: x. From version 0.12, the only valid positional argument will be `data`, and passing other arguments without an explicit keyword will result in an error or misinterpretation.\n",
      "\n"
     ]
    },
    {
     "data": {
      "image/png": "[encoded data removed]",
      "text/plain": [
       "<Figure size 1440x576 with 3 Axes>"
      ]
     },
     "metadata": {
      "needs_background": "light"
     },
     "output_type": "display_data"
    }
   ],
   "source": [
    "plt.figure(figsize=(20,8))\n",
    "plt.subplot(1,3,1)\n",
    "plt.title('BMI Distribution')\n",
    "ax=sns.countplot(train['bmi_group'])\n",
    "for p in ax.patches:\n",
    "    height=p.get_height()\n",
    "    ax.text(p.get_x()+p.get_width()/2.0,height+3,f\"{round(100*height/len(train),2)}%\",ha='center')\n",
    "    \n",
    "plt.subplot(1,3,2)\n",
    "plt.title('BMI Distriution by Mortality')\n",
    "ax=sns.countplot(x='bmi_group',data=train,hue='In-hospital_death',palette='Set1')\n",
    "for p in ax.patches:\n",
    "    height=p.get_height()\n",
    "    ax.text(p.get_x()+p.get_width()/2,height+3,f\"{round(100*height/len(train))}%\",ha='center')\n",
    "    \n",
    "plt.subplot(1,3,3)\n",
    "plt.title(\"BMI Distribution by Gender\")\n",
    "ax=sns.countplot(x='bmi_group',data=train,hue='Gender',palette='Set2')\n",
    "for p in ax.patches:\n",
    "    height=p.get_height()\n",
    "    ax.text(p.get_x()+p.get_width()/2,height+3,f\"{round(100*height/len(train),2)}%\",ha=\"center\")\n",
    "\n",
    "    \n",
    "    \n"
   ]
  },
  {
   "cell_type": "markdown",
   "id": "474a1c92",
   "metadata": {
    "papermill": {
     "duration": 0.068057,
     "end_time": "2022-04-14T13:33:21.866232",
     "exception": false,
     "start_time": "2022-04-14T13:33:21.798175",
     "status": "completed"
    },
    "tags": []
   },
   "source": [
    "* Around 70% patients admitted are in bmi index Overweight and Obese.\n",
    "* Mortality is higher in the same bmi index group.\n",
    "* More male patients than female in higher bmi index."
   ]
  },
  {
   "cell_type": "code",
   "execution_count": 16,
   "id": "4cf1170c",
   "metadata": {
    "execution": {
     "iopub.execute_input": "2022-04-14T13:33:22.009965Z",
     "iopub.status.busy": "2022-04-14T13:33:22.009384Z",
     "iopub.status.idle": "2022-04-14T13:33:22.012523Z",
     "shell.execute_reply": "2022-04-14T13:33:22.012949Z",
     "shell.execute_reply.started": "2022-04-14T12:58:54.851697Z"
    },
    "papermill": {
     "duration": 0.07797,
     "end_time": "2022-04-14T13:33:22.013124",
     "exception": false,
     "start_time": "2022-04-14T13:33:21.935154",
     "status": "completed"
    },
    "tags": []
   },
   "outputs": [
    {
     "data": {
      "text/plain": [
       "Index(['RecordID', 'Age', 'Gender', 'Height', 'Weight', 'Urine', 'HR', 'Temp',\n",
       "       'NIDiasABP', 'SysABP', 'DiasABP', 'pH', 'PaCO2', 'PaO2', 'Platelets',\n",
       "       'MAP', 'K', 'Na', 'FiO2', 'GCS', 'ICUType', 'In-hospital_death',\n",
       "       'age_group', 'bmi_group'],\n",
       "      dtype='object')"
      ]
     },
     "execution_count": 16,
     "metadata": {},
     "output_type": "execute_result"
    }
   ],
   "source": [
    "train.columns"
   ]
  },
  {
   "cell_type": "code",
   "execution_count": 17,
   "id": "a882c63f",
   "metadata": {
    "execution": {
     "iopub.execute_input": "2022-04-14T13:33:22.154076Z",
     "iopub.status.busy": "2022-04-14T13:33:22.153446Z",
     "iopub.status.idle": "2022-04-14T13:33:22.159969Z",
     "shell.execute_reply": "2022-04-14T13:33:22.160436Z",
     "shell.execute_reply.started": "2022-04-14T12:58:54.859676Z"
    },
    "papermill": {
     "duration": 0.079014,
     "end_time": "2022-04-14T13:33:22.160603",
     "exception": false,
     "start_time": "2022-04-14T13:33:22.081589",
     "status": "completed"
    },
    "tags": []
   },
   "outputs": [
    {
     "data": {
      "text/plain": [
       "0    3446\n",
       "1     554\n",
       "Name: In-hospital_death, dtype: int64"
      ]
     },
     "execution_count": 17,
     "metadata": {},
     "output_type": "execute_result"
    }
   ],
   "source": [
    "train['In-hospital_death'].value_counts()"
   ]
  },
  {
   "cell_type": "markdown",
   "id": "2e78230e",
   "metadata": {
    "papermill": {
     "duration": 0.069043,
     "end_time": "2022-04-14T13:33:22.298528",
     "exception": false,
     "start_time": "2022-04-14T13:33:22.229485",
     "status": "completed"
    },
    "tags": []
   },
   "source": [
    "# Histogram Distribution of Urine Parameter"
   ]
  },
  {
   "cell_type": "code",
   "execution_count": 18,
   "id": "acf08358",
   "metadata": {
    "execution": {
     "iopub.execute_input": "2022-04-14T13:33:22.440312Z",
     "iopub.status.busy": "2022-04-14T13:33:22.439394Z",
     "iopub.status.idle": "2022-04-14T13:33:24.154744Z",
     "shell.execute_reply": "2022-04-14T13:33:24.154258Z",
     "shell.execute_reply.started": "2022-04-14T12:58:54.877531Z"
    },
    "papermill": {
     "duration": 1.787465,
     "end_time": "2022-04-14T13:33:24.154884",
     "exception": false,
     "start_time": "2022-04-14T13:33:22.367419",
     "status": "completed"
    },
    "tags": []
   },
   "outputs": [
    {
     "data": {
      "text/plain": [
       "Text(0.7, 0.95, 'Mean:139.87')"
      ]
     },
     "execution_count": 18,
     "metadata": {},
     "output_type": "execute_result"
    },
    {
     "data": {
      "image/png": "[encoded data removed]",
      "text/plain": [
       "<Figure size 1440x576 with 3 Axes>"
      ]
     },
     "metadata": {
      "needs_background": "light"
     },
     "output_type": "display_data"
    }
   ],
   "source": [
    "plt.figure(figsize=(20,8))\n",
    "plt.subplot(1,3,1)\n",
    "plt.title('Histogram distribution of Urine Parameter')\n",
    "sns.histplot(train['Urine'],color='blue',kde=True)\n",
    "plt.annotate(f\"Mean:{round(train['Urine'].mean(),2)}\",xy=(0.7,0.95),xycoords='axes fraction',color='blue')\n",
    "\n",
    "plt.subplot(1,3,2)\n",
    "plt.title('Histogram Distribution of Urine Parameter- Mortality: 1')\n",
    "sns.histplot(train[train['In-hospital_death']==1]['Urine'],color='red',kde=True)\n",
    "plt.annotate(f\"Mean:{round(train[train['In-hospital_death']==1]['Urine'].mean(),2)}\",xy=(0.7,0.95),xycoords='axes fraction',color='red')\n",
    "\n",
    "plt.subplot(1,3,3)\n",
    "plt.title('Histogram Distribution of Urine Parameter-Mortality: 0')\n",
    "sns.histplot(train[train['In-hospital_death']==0]['Urine'],color='green',kde=True)\n",
    "plt.annotate(f\"Mean:{round(train[train['In-hospital_death']==0]['Urine'].mean(),2)}\",xy=(0.7,0.95),xycoords='axes fraction',color='green')"
   ]
  },
  {
   "cell_type": "markdown",
   "id": "601d9c74",
   "metadata": {
    "papermill": {
     "duration": 0.07255,
     "end_time": "2022-04-14T13:33:24.299207",
     "exception": false,
     "start_time": "2022-04-14T13:33:24.226657",
     "status": "completed"
    },
    "tags": []
   },
   "source": [
    "# Categorical Features and Numerical Features"
   ]
  },
  {
   "cell_type": "code",
   "execution_count": 19,
   "id": "1ba12623",
   "metadata": {
    "execution": {
     "iopub.execute_input": "2022-04-14T13:33:24.446567Z",
     "iopub.status.busy": "2022-04-14T13:33:24.445391Z",
     "iopub.status.idle": "2022-04-14T13:33:24.453795Z",
     "shell.execute_reply": "2022-04-14T13:33:24.453202Z",
     "shell.execute_reply.started": "2022-04-14T12:58:56.808632Z"
    },
    "papermill": {
     "duration": 0.083337,
     "end_time": "2022-04-14T13:33:24.453933",
     "exception": false,
     "start_time": "2022-04-14T13:33:24.370596",
     "status": "completed"
    },
    "tags": []
   },
   "outputs": [
    {
     "data": {
      "text/plain": [
       "(['Gender', 'ICUType', 'age_group', 'bmi_group'],\n",
       " ['Age',\n",
       "  'Height',\n",
       "  'Weight',\n",
       "  'Urine',\n",
       "  'HR',\n",
       "  'Temp',\n",
       "  'NIDiasABP',\n",
       "  'SysABP',\n",
       "  'DiasABP',\n",
       "  'pH',\n",
       "  'PaCO2',\n",
       "  'PaO2',\n",
       "  'Platelets',\n",
       "  'MAP',\n",
       "  'K',\n",
       "  'Na',\n",
       "  'FiO2',\n",
       "  'GCS'])"
      ]
     },
     "execution_count": 19,
     "metadata": {},
     "output_type": "execute_result"
    }
   ],
   "source": [
    "cat_features=['Gender','ICUType','age_group','bmi_group']\n",
    "num_features=[c for c in train.columns if c not in cat_features]\n",
    "num_features=[c for c in num_features if c not in ['RecordID','In-hospital_death']]\n",
    "cat_features,num_features"
   ]
  },
  {
   "cell_type": "code",
   "execution_count": 20,
   "id": "e39933ab",
   "metadata": {
    "execution": {
     "iopub.execute_input": "2022-04-14T13:33:24.603250Z",
     "iopub.status.busy": "2022-04-14T13:33:24.602309Z",
     "iopub.status.idle": "2022-04-14T13:33:24.605417Z",
     "shell.execute_reply": "2022-04-14T13:33:24.606104Z",
     "shell.execute_reply.started": "2022-04-14T12:58:56.818535Z"
    },
    "papermill": {
     "duration": 0.080154,
     "end_time": "2022-04-14T13:33:24.606330",
     "exception": false,
     "start_time": "2022-04-14T13:33:24.526176",
     "status": "completed"
    },
    "tags": []
   },
   "outputs": [
    {
     "name": "stdout",
     "output_type": "stream",
     "text": [
      "18\n"
     ]
    }
   ],
   "source": [
    "print(len(num_features))\n"
   ]
  },
  {
   "cell_type": "markdown",
   "id": "f7eef1a5",
   "metadata": {
    "papermill": {
     "duration": 0.071052,
     "end_time": "2022-04-14T13:33:24.750394",
     "exception": false,
     "start_time": "2022-04-14T13:33:24.679342",
     "status": "completed"
    },
    "tags": []
   },
   "source": [
    "# Boxplot to visualize data distribution in terms of 5 point summery and outliers**"
   ]
  },
  {
   "cell_type": "code",
   "execution_count": 21,
   "id": "902f0dc6",
   "metadata": {
    "execution": {
     "iopub.execute_input": "2022-04-14T13:33:24.916682Z",
     "iopub.status.busy": "2022-04-14T13:33:24.896924Z",
     "iopub.status.idle": "2022-04-14T13:33:27.001206Z",
     "shell.execute_reply": "2022-04-14T13:33:27.001684Z",
     "shell.execute_reply.started": "2022-04-14T12:58:56.833946Z"
    },
    "papermill": {
     "duration": 2.178986,
     "end_time": "2022-04-14T13:33:27.001857",
     "exception": false,
     "start_time": "2022-04-14T13:33:24.822871",
     "status": "completed"
    },
    "tags": []
   },
   "outputs": [
    {
     "data": {
      "image/png": "[encoded data removed]",
      "text/plain": [
       "<Figure size 1440x2160 with 18 Axes>"
      ]
     },
     "metadata": {
      "needs_background": "light"
     },
     "output_type": "display_data"
    }
   ],
   "source": [
    "plt.figure(figsize=(20,30))\n",
    "for i,col in enumerate(train[num_features]):\n",
    "    plt.subplot(6,int(len(num_features)/6), i+1)\n",
    "    sns.boxplot(y=col,data=train)\n",
    "    plt.title(col.upper())"
   ]
  },
  {
   "cell_type": "markdown",
   "id": "3b60ff9d",
   "metadata": {
    "papermill": {
     "duration": 0.074828,
     "end_time": "2022-04-14T13:33:27.150812",
     "exception": false,
     "start_time": "2022-04-14T13:33:27.075984",
     "status": "completed"
    },
    "tags": []
   },
   "source": [
    "Most of the features have outliers"
   ]
  },
  {
   "cell_type": "code",
   "execution_count": 22,
   "id": "29679e29",
   "metadata": {
    "execution": {
     "iopub.execute_input": "2022-04-14T13:33:27.301826Z",
     "iopub.status.busy": "2022-04-14T13:33:27.301217Z",
     "iopub.status.idle": "2022-04-14T13:33:27.308059Z",
     "shell.execute_reply": "2022-04-14T13:33:27.308447Z",
     "shell.execute_reply.started": "2022-04-14T12:58:59.182777Z"
    },
    "papermill": {
     "duration": 0.083884,
     "end_time": "2022-04-14T13:33:27.308615",
     "exception": false,
     "start_time": "2022-04-14T13:33:27.224731",
     "status": "completed"
    },
    "tags": []
   },
   "outputs": [
    {
     "data": {
      "text/plain": [
       "RecordID                0\n",
       "Age                     0\n",
       "Gender                  3\n",
       "Height                  0\n",
       "Weight                  0\n",
       "Urine                 117\n",
       "HR                     63\n",
       "Temp                   64\n",
       "NIDiasABP             517\n",
       "SysABP               1201\n",
       "DiasABP              1201\n",
       "pH                    960\n",
       "PaCO2                 977\n",
       "PaO2                  977\n",
       "Platelets              68\n",
       "MAP                  1208\n",
       "K                      96\n",
       "Na                     75\n",
       "FiO2                 1283\n",
       "GCS                    64\n",
       "ICUType                 0\n",
       "In-hospital_death       0\n",
       "age_group               0\n",
       "bmi_group               1\n",
       "dtype: int64"
      ]
     },
     "execution_count": 22,
     "metadata": {},
     "output_type": "execute_result"
    }
   ],
   "source": [
    "train.isnull().sum()"
   ]
  },
  {
   "cell_type": "markdown",
   "id": "92734eea",
   "metadata": {
    "papermill": {
     "duration": 0.074622,
     "end_time": "2022-04-14T13:33:27.457860",
     "exception": false,
     "start_time": "2022-04-14T13:33:27.383238",
     "status": "completed"
    },
    "tags": []
   },
   "source": [
    "# Imputing NaN Values"
   ]
  },
  {
   "cell_type": "markdown",
   "id": "5c9b1182",
   "metadata": {
    "execution": {
     "iopub.execute_input": "2022-04-11T12:44:55.714184Z",
     "iopub.status.busy": "2022-04-11T12:44:55.713335Z",
     "iopub.status.idle": "2022-04-11T12:44:55.718332Z",
     "shell.execute_reply": "2022-04-11T12:44:55.717445Z",
     "shell.execute_reply.started": "2022-04-11T12:44:55.714135Z"
    },
    "papermill": {
     "duration": 0.07428,
     "end_time": "2022-04-14T13:33:27.607441",
     "exception": false,
     "start_time": "2022-04-14T13:33:27.533161",
     "status": "completed"
    },
    "tags": []
   },
   "source": [
    "We can impute all the NaN Values with the respective feature's mean value.\n",
    "But here we impute NaNs depending on the 'In-hospital_death' value."
   ]
  },
  {
   "cell_type": "code",
   "execution_count": 23,
   "id": "c92c5c74",
   "metadata": {
    "execution": {
     "iopub.execute_input": "2022-04-14T13:33:27.760524Z",
     "iopub.status.busy": "2022-04-14T13:33:27.759884Z",
     "iopub.status.idle": "2022-04-14T13:33:27.798940Z",
     "shell.execute_reply": "2022-04-14T13:33:27.798324Z",
     "shell.execute_reply.started": "2022-04-14T12:58:59.194747Z"
    },
    "papermill": {
     "duration": 0.117191,
     "end_time": "2022-04-14T13:33:27.799101",
     "exception": false,
     "start_time": "2022-04-14T13:33:27.681910",
     "status": "completed"
    },
    "tags": []
   },
   "outputs": [],
   "source": [
    "df_0=train[train['In-hospital_death']==0].copy()\n",
    "df_1=train[train['In-hospital_death']==1].copy()\n",
    "\n",
    "#Impute numerical features with mean values\n",
    "df_0[num_features]=df_0[num_features].fillna(df_0[num_features].mean())\n",
    "df_1[num_features]=df_1[num_features].fillna(df_1[num_features].mean())\n",
    "\n",
    "#impute categorical features with mean values\n",
    "df_0[cat_features]=df_0[cat_features].fillna(df_0[cat_features].mode())\n",
    "df_1[cat_features]=df_1[cat_features].fillna(df_1[cat_features].mode())\n"
   ]
  },
  {
   "cell_type": "code",
   "execution_count": 24,
   "id": "e08dc952",
   "metadata": {
    "execution": {
     "iopub.execute_input": "2022-04-14T13:33:27.952488Z",
     "iopub.status.busy": "2022-04-14T13:33:27.951882Z",
     "iopub.status.idle": "2022-04-14T13:33:27.979186Z",
     "shell.execute_reply": "2022-04-14T13:33:27.978645Z",
     "shell.execute_reply.started": "2022-04-14T12:58:59.239700Z"
    },
    "papermill": {
     "duration": 0.10567,
     "end_time": "2022-04-14T13:33:27.979337",
     "exception": false,
     "start_time": "2022-04-14T13:33:27.873667",
     "status": "completed"
    },
    "tags": []
   },
   "outputs": [
    {
     "data": {
      "text/html": [
       "<div>\n",
       "<style scoped>\n",
       "    .dataframe tbody tr th:only-of-type {\n",
       "        vertical-align: middle;\n",
       "    }\n",
       "\n",
       "    .dataframe tbody tr th {\n",
       "        vertical-align: top;\n",
       "    }\n",
       "\n",
       "    .dataframe thead th {\n",
       "        text-align: right;\n",
       "    }\n",
       "</style>\n",
       "<table border=\"1\" class=\"dataframe\">\n",
       "  <thead>\n",
       "    <tr style=\"text-align: right;\">\n",
       "      <th></th>\n",
       "      <th>RecordID</th>\n",
       "      <th>Age</th>\n",
       "      <th>Gender</th>\n",
       "      <th>Height</th>\n",
       "      <th>Weight</th>\n",
       "      <th>Urine</th>\n",
       "      <th>HR</th>\n",
       "      <th>Temp</th>\n",
       "      <th>NIDiasABP</th>\n",
       "      <th>SysABP</th>\n",
       "      <th>...</th>\n",
       "      <th>Platelets</th>\n",
       "      <th>MAP</th>\n",
       "      <th>K</th>\n",
       "      <th>Na</th>\n",
       "      <th>FiO2</th>\n",
       "      <th>GCS</th>\n",
       "      <th>ICUType</th>\n",
       "      <th>In-hospital_death</th>\n",
       "      <th>age_group</th>\n",
       "      <th>bmi_group</th>\n",
       "    </tr>\n",
       "  </thead>\n",
       "  <tbody>\n",
       "    <tr>\n",
       "      <th>0</th>\n",
       "      <td>141440.0</td>\n",
       "      <td>60.0</td>\n",
       "      <td>1.0</td>\n",
       "      <td>177.8</td>\n",
       "      <td>91.50</td>\n",
       "      <td>169.870000</td>\n",
       "      <td>80.47000</td>\n",
       "      <td>36.770000</td>\n",
       "      <td>67.330000</td>\n",
       "      <td>116.040000</td>\n",
       "      <td>...</td>\n",
       "      <td>172.75</td>\n",
       "      <td>74.980000</td>\n",
       "      <td>4.05</td>\n",
       "      <td>139.50</td>\n",
       "      <td>0.470000</td>\n",
       "      <td>8.380000</td>\n",
       "      <td>2.0</td>\n",
       "      <td>0</td>\n",
       "      <td>60s</td>\n",
       "      <td>Overweight</td>\n",
       "    </tr>\n",
       "    <tr>\n",
       "      <th>1</th>\n",
       "      <td>134223.0</td>\n",
       "      <td>33.0</td>\n",
       "      <td>0.0</td>\n",
       "      <td>170.2</td>\n",
       "      <td>65.00</td>\n",
       "      <td>352.290000</td>\n",
       "      <td>101.02000</td>\n",
       "      <td>37.440000</td>\n",
       "      <td>57.759015</td>\n",
       "      <td>116.410000</td>\n",
       "      <td>...</td>\n",
       "      <td>100.50</td>\n",
       "      <td>90.070000</td>\n",
       "      <td>4.18</td>\n",
       "      <td>148.44</td>\n",
       "      <td>0.440000</td>\n",
       "      <td>10.560000</td>\n",
       "      <td>3.0</td>\n",
       "      <td>0</td>\n",
       "      <td>30s</td>\n",
       "      <td>Healthy</td>\n",
       "    </tr>\n",
       "    <tr>\n",
       "      <th>2</th>\n",
       "      <td>135059.0</td>\n",
       "      <td>90.0</td>\n",
       "      <td>0.0</td>\n",
       "      <td>170.2</td>\n",
       "      <td>80.00</td>\n",
       "      <td>139.867253</td>\n",
       "      <td>86.72794</td>\n",
       "      <td>36.973782</td>\n",
       "      <td>57.759015</td>\n",
       "      <td>119.056707</td>\n",
       "      <td>...</td>\n",
       "      <td>27.20</td>\n",
       "      <td>81.216815</td>\n",
       "      <td>4.97</td>\n",
       "      <td>139.67</td>\n",
       "      <td>0.546648</td>\n",
       "      <td>11.938905</td>\n",
       "      <td>2.0</td>\n",
       "      <td>0</td>\n",
       "      <td>90s</td>\n",
       "      <td>Overweight</td>\n",
       "    </tr>\n",
       "    <tr>\n",
       "      <th>3</th>\n",
       "      <td>135910.0</td>\n",
       "      <td>56.0</td>\n",
       "      <td>1.0</td>\n",
       "      <td>170.2</td>\n",
       "      <td>99.46</td>\n",
       "      <td>146.220000</td>\n",
       "      <td>94.03000</td>\n",
       "      <td>36.330000</td>\n",
       "      <td>76.000000</td>\n",
       "      <td>123.510000</td>\n",
       "      <td>...</td>\n",
       "      <td>175.00</td>\n",
       "      <td>94.970000</td>\n",
       "      <td>4.47</td>\n",
       "      <td>141.60</td>\n",
       "      <td>0.670000</td>\n",
       "      <td>11.730000</td>\n",
       "      <td>3.0</td>\n",
       "      <td>0</td>\n",
       "      <td>50s</td>\n",
       "      <td>Obesity</td>\n",
       "    </tr>\n",
       "    <tr>\n",
       "      <th>4</th>\n",
       "      <td>135674.0</td>\n",
       "      <td>40.0</td>\n",
       "      <td>1.0</td>\n",
       "      <td>177.8</td>\n",
       "      <td>70.00</td>\n",
       "      <td>95.280000</td>\n",
       "      <td>72.52000</td>\n",
       "      <td>37.000000</td>\n",
       "      <td>69.780000</td>\n",
       "      <td>119.056707</td>\n",
       "      <td>...</td>\n",
       "      <td>195.00</td>\n",
       "      <td>81.216815</td>\n",
       "      <td>4.00</td>\n",
       "      <td>141.50</td>\n",
       "      <td>0.560000</td>\n",
       "      <td>11.760000</td>\n",
       "      <td>4.0</td>\n",
       "      <td>0</td>\n",
       "      <td>30s</td>\n",
       "      <td>Healthy</td>\n",
       "    </tr>\n",
       "  </tbody>\n",
       "</table>\n",
       "<p>5 rows × 24 columns</p>\n",
       "</div>"
      ],
      "text/plain": [
       "   RecordID   Age  Gender  Height  Weight       Urine         HR       Temp  \\\n",
       "0  141440.0  60.0     1.0   177.8   91.50  169.870000   80.47000  36.770000   \n",
       "1  134223.0  33.0     0.0   170.2   65.00  352.290000  101.02000  37.440000   \n",
       "2  135059.0  90.0     0.0   170.2   80.00  139.867253   86.72794  36.973782   \n",
       "3  135910.0  56.0     1.0   170.2   99.46  146.220000   94.03000  36.330000   \n",
       "4  135674.0  40.0     1.0   177.8   70.00   95.280000   72.52000  37.000000   \n",
       "\n",
       "   NIDiasABP      SysABP  ...  Platelets        MAP     K      Na      FiO2  \\\n",
       "0  67.330000  116.040000  ...     172.75  74.980000  4.05  139.50  0.470000   \n",
       "1  57.759015  116.410000  ...     100.50  90.070000  4.18  148.44  0.440000   \n",
       "2  57.759015  119.056707  ...      27.20  81.216815  4.97  139.67  0.546648   \n",
       "3  76.000000  123.510000  ...     175.00  94.970000  4.47  141.60  0.670000   \n",
       "4  69.780000  119.056707  ...     195.00  81.216815  4.00  141.50  0.560000   \n",
       "\n",
       "         GCS  ICUType  In-hospital_death  age_group   bmi_group  \n",
       "0   8.380000      2.0                  0        60s  Overweight  \n",
       "1  10.560000      3.0                  0        30s     Healthy  \n",
       "2  11.938905      2.0                  0        90s  Overweight  \n",
       "3  11.730000      3.0                  0        50s     Obesity  \n",
       "4  11.760000      4.0                  0        30s     Healthy  \n",
       "\n",
       "[5 rows x 24 columns]"
      ]
     },
     "execution_count": 24,
     "metadata": {},
     "output_type": "execute_result"
    }
   ],
   "source": [
    "#concat both the dataframes, suffle and reset index\n",
    "\n",
    "df=pd.concat([df_0,df_1],axis=0).sample(frac=1).reset_index(drop=True)\n",
    "df.head()"
   ]
  },
  {
   "cell_type": "code",
   "execution_count": 25,
   "id": "263b036e",
   "metadata": {
    "execution": {
     "iopub.execute_input": "2022-04-14T13:33:28.136332Z",
     "iopub.status.busy": "2022-04-14T13:33:28.135717Z",
     "iopub.status.idle": "2022-04-14T13:33:28.139448Z",
     "shell.execute_reply": "2022-04-14T13:33:28.138912Z",
     "shell.execute_reply.started": "2022-04-14T12:58:59.278527Z"
    },
    "papermill": {
     "duration": 0.084069,
     "end_time": "2022-04-14T13:33:28.139587",
     "exception": false,
     "start_time": "2022-04-14T13:33:28.055518",
     "status": "completed"
    },
    "tags": []
   },
   "outputs": [
    {
     "data": {
      "text/plain": [
       "(4000, 24)"
      ]
     },
     "execution_count": 25,
     "metadata": {},
     "output_type": "execute_result"
    }
   ],
   "source": [
    "df.shape"
   ]
  },
  {
   "cell_type": "code",
   "execution_count": 26,
   "id": "590aa76e",
   "metadata": {
    "execution": {
     "iopub.execute_input": "2022-04-14T13:33:28.296771Z",
     "iopub.status.busy": "2022-04-14T13:33:28.296068Z",
     "iopub.status.idle": "2022-04-14T13:33:28.309089Z",
     "shell.execute_reply": "2022-04-14T13:33:28.309641Z",
     "shell.execute_reply.started": "2022-04-14T12:58:59.286979Z"
    },
    "papermill": {
     "duration": 0.093837,
     "end_time": "2022-04-14T13:33:28.309805",
     "exception": false,
     "start_time": "2022-04-14T13:33:28.215968",
     "status": "completed"
    },
    "tags": []
   },
   "outputs": [
    {
     "name": "stdout",
     "output_type": "stream",
     "text": [
      "Feature Correlation with Target:\n"
     ]
    },
    {
     "data": {
      "text/plain": [
       "RecordID            -0.011532\n",
       "Age                  0.130700\n",
       "Gender              -0.015689\n",
       "Height              -0.013628\n",
       "Weight              -0.054590\n",
       "Urine               -0.124613\n",
       "HR                   0.073804\n",
       "Temp                -0.060020\n",
       "NIDiasABP           -0.092156\n",
       "SysABP              -0.066522\n",
       "DiasABP             -0.075264\n",
       "pH                   0.027736\n",
       "PaCO2               -0.095989\n",
       "PaO2                -0.100565\n",
       "Platelets           -0.021218\n",
       "MAP                 -0.032995\n",
       "K                    0.022389\n",
       "Na                   0.022402\n",
       "FiO2                 0.052473\n",
       "GCS                 -0.256609\n",
       "ICUType              0.059896\n",
       "In-hospital_death    1.000000\n",
       "Name: In-hospital_death, dtype: float64"
      ]
     },
     "execution_count": 26,
     "metadata": {},
     "output_type": "execute_result"
    }
   ],
   "source": [
    "print('Feature Correlation with Target:')\n",
    "df.corr()['In-hospital_death']"
   ]
  },
  {
   "cell_type": "markdown",
   "id": "fd4a91fd",
   "metadata": {
    "papermill": {
     "duration": 0.077315,
     "end_time": "2022-04-14T13:33:28.463437",
     "exception": false,
     "start_time": "2022-04-14T13:33:28.386122",
     "status": "completed"
    },
    "tags": []
   },
   "source": [
    "# Label Encoding and Standard Scaling"
   ]
  },
  {
   "cell_type": "code",
   "execution_count": 27,
   "id": "112d7e34",
   "metadata": {
    "execution": {
     "iopub.execute_input": "2022-04-14T13:33:28.621126Z",
     "iopub.status.busy": "2022-04-14T13:33:28.620472Z",
     "iopub.status.idle": "2022-04-14T13:33:28.753566Z",
     "shell.execute_reply": "2022-04-14T13:33:28.752970Z",
     "shell.execute_reply.started": "2022-04-14T12:58:59.314867Z"
    },
    "papermill": {
     "duration": 0.213043,
     "end_time": "2022-04-14T13:33:28.753704",
     "exception": false,
     "start_time": "2022-04-14T13:33:28.540661",
     "status": "completed"
    },
    "tags": []
   },
   "outputs": [
    {
     "name": "stdout",
     "output_type": "stream",
     "text": [
      "Label Encoding: Gender -2\n",
      "Label Encoding: ICUType -4\n",
      "Label Encoding: age_group -9\n",
      "Label Encoding: bmi_group -4\n"
     ]
    }
   ],
   "source": [
    "from sklearn.preprocessing import LabelEncoder\n",
    "for col in ['Gender','ICUType','age_group','bmi_group']:\n",
    "    print(f\"Label Encoding: {col} -{df[col].nunique()}\")\n",
    "    le=LabelEncoder()\n",
    "    df[col]=le.fit_transform(df[col])"
   ]
  },
  {
   "cell_type": "code",
   "execution_count": 28,
   "id": "5172e280",
   "metadata": {
    "execution": {
     "iopub.execute_input": "2022-04-14T13:33:28.910974Z",
     "iopub.status.busy": "2022-04-14T13:33:28.910376Z",
     "iopub.status.idle": "2022-04-14T13:33:28.922121Z",
     "shell.execute_reply": "2022-04-14T13:33:28.921553Z",
     "shell.execute_reply.started": "2022-04-14T12:58:59.382328Z"
    },
    "papermill": {
     "duration": 0.090827,
     "end_time": "2022-04-14T13:33:28.922262",
     "exception": false,
     "start_time": "2022-04-14T13:33:28.831435",
     "status": "completed"
    },
    "tags": []
   },
   "outputs": [],
   "source": [
    "from sklearn.preprocessing import StandardScaler\n",
    "std=StandardScaler()\n",
    "df[num_features]=std.fit_transform(df[num_features])"
   ]
  },
  {
   "cell_type": "code",
   "execution_count": 29,
   "id": "7c0b6609",
   "metadata": {
    "execution": {
     "iopub.execute_input": "2022-04-14T13:33:29.079694Z",
     "iopub.status.busy": "2022-04-14T13:33:29.079108Z",
     "iopub.status.idle": "2022-04-14T13:33:29.101284Z",
     "shell.execute_reply": "2022-04-14T13:33:29.101826Z",
     "shell.execute_reply.started": "2022-04-14T12:58:59.400160Z"
    },
    "papermill": {
     "duration": 0.103071,
     "end_time": "2022-04-14T13:33:29.101999",
     "exception": false,
     "start_time": "2022-04-14T13:33:28.998928",
     "status": "completed"
    },
    "tags": []
   },
   "outputs": [
    {
     "data": {
      "text/html": [
       "<div>\n",
       "<style scoped>\n",
       "    .dataframe tbody tr th:only-of-type {\n",
       "        vertical-align: middle;\n",
       "    }\n",
       "\n",
       "    .dataframe tbody tr th {\n",
       "        vertical-align: top;\n",
       "    }\n",
       "\n",
       "    .dataframe thead th {\n",
       "        text-align: right;\n",
       "    }\n",
       "</style>\n",
       "<table border=\"1\" class=\"dataframe\">\n",
       "  <thead>\n",
       "    <tr style=\"text-align: right;\">\n",
       "      <th></th>\n",
       "      <th>RecordID</th>\n",
       "      <th>Age</th>\n",
       "      <th>Gender</th>\n",
       "      <th>Height</th>\n",
       "      <th>Weight</th>\n",
       "      <th>Urine</th>\n",
       "      <th>HR</th>\n",
       "      <th>Temp</th>\n",
       "      <th>NIDiasABP</th>\n",
       "      <th>SysABP</th>\n",
       "      <th>...</th>\n",
       "      <th>Platelets</th>\n",
       "      <th>MAP</th>\n",
       "      <th>K</th>\n",
       "      <th>Na</th>\n",
       "      <th>FiO2</th>\n",
       "      <th>GCS</th>\n",
       "      <th>ICUType</th>\n",
       "      <th>In-hospital_death</th>\n",
       "      <th>age_group</th>\n",
       "      <th>bmi_group</th>\n",
       "    </tr>\n",
       "  </thead>\n",
       "  <tbody>\n",
       "    <tr>\n",
       "      <th>0</th>\n",
       "      <td>141440.0</td>\n",
       "      <td>-0.241902</td>\n",
       "      <td>1</td>\n",
       "      <td>0.534089</td>\n",
       "      <td>0.375382</td>\n",
       "      <td>0.305869</td>\n",
       "      <td>-0.461563</td>\n",
       "      <td>-0.256135</td>\n",
       "      <td>0.913046</td>\n",
       "      <td>-0.155726</td>\n",
       "      <td>...</td>\n",
       "      <td>-0.318115</td>\n",
       "      <td>-0.522349</td>\n",
       "      <td>-0.174373</td>\n",
       "      <td>0.158233</td>\n",
       "      <td>-0.757629</td>\n",
       "      <td>-0.998848</td>\n",
       "      <td>1</td>\n",
       "      <td>0</td>\n",
       "      <td>4</td>\n",
       "      <td>2</td>\n",
       "    </tr>\n",
       "    <tr>\n",
       "      <th>1</th>\n",
       "      <td>134223.0</td>\n",
       "      <td>-1.779597</td>\n",
       "      <td>0</td>\n",
       "      <td>0.014848</td>\n",
       "      <td>-0.770372</td>\n",
       "      <td>1.861797</td>\n",
       "      <td>0.956955</td>\n",
       "      <td>0.665115</td>\n",
       "      <td>0.036951</td>\n",
       "      <td>-0.133355</td>\n",
       "      <td>...</td>\n",
       "      <td>-1.023679</td>\n",
       "      <td>0.773486</td>\n",
       "      <td>0.092419</td>\n",
       "      <td>2.364500</td>\n",
       "      <td>-1.045932</td>\n",
       "      <td>-0.323981</td>\n",
       "      <td>2</td>\n",
       "      <td>0</td>\n",
       "      <td>1</td>\n",
       "      <td>0</td>\n",
       "    </tr>\n",
       "    <tr>\n",
       "      <th>2</th>\n",
       "      <td>135059.0</td>\n",
       "      <td>1.466648</td>\n",
       "      <td>0</td>\n",
       "      <td>0.014848</td>\n",
       "      <td>-0.121832</td>\n",
       "      <td>0.049964</td>\n",
       "      <td>-0.029592</td>\n",
       "      <td>0.024065</td>\n",
       "      <td>0.036951</td>\n",
       "      <td>0.026672</td>\n",
       "      <td>...</td>\n",
       "      <td>-1.739497</td>\n",
       "      <td>0.013230</td>\n",
       "      <td>1.713692</td>\n",
       "      <td>0.200186</td>\n",
       "      <td>-0.021040</td>\n",
       "      <td>0.102889</td>\n",
       "      <td>1</td>\n",
       "      <td>0</td>\n",
       "      <td>7</td>\n",
       "      <td>2</td>\n",
       "    </tr>\n",
       "    <tr>\n",
       "      <th>3</th>\n",
       "      <td>135910.0</td>\n",
       "      <td>-0.469709</td>\n",
       "      <td>1</td>\n",
       "      <td>0.014848</td>\n",
       "      <td>0.719541</td>\n",
       "      <td>0.104149</td>\n",
       "      <td>0.474452</td>\n",
       "      <td>-0.861136</td>\n",
       "      <td>1.706669</td>\n",
       "      <td>0.295931</td>\n",
       "      <td>...</td>\n",
       "      <td>-0.296142</td>\n",
       "      <td>1.194268</td>\n",
       "      <td>0.687570</td>\n",
       "      <td>0.676483</td>\n",
       "      <td>1.164387</td>\n",
       "      <td>0.038218</td>\n",
       "      <td>2</td>\n",
       "      <td>0</td>\n",
       "      <td>3</td>\n",
       "      <td>1</td>\n",
       "    </tr>\n",
       "    <tr>\n",
       "      <th>4</th>\n",
       "      <td>135674.0</td>\n",
       "      <td>-1.380935</td>\n",
       "      <td>1</td>\n",
       "      <td>0.534089</td>\n",
       "      <td>-0.554192</td>\n",
       "      <td>-0.330337</td>\n",
       "      <td>-1.010333</td>\n",
       "      <td>0.060115</td>\n",
       "      <td>1.137311</td>\n",
       "      <td>0.026672</td>\n",
       "      <td>...</td>\n",
       "      <td>-0.100831</td>\n",
       "      <td>0.013230</td>\n",
       "      <td>-0.276985</td>\n",
       "      <td>0.651805</td>\n",
       "      <td>0.107278</td>\n",
       "      <td>0.047505</td>\n",
       "      <td>3</td>\n",
       "      <td>0</td>\n",
       "      <td>1</td>\n",
       "      <td>0</td>\n",
       "    </tr>\n",
       "  </tbody>\n",
       "</table>\n",
       "<p>5 rows × 24 columns</p>\n",
       "</div>"
      ],
      "text/plain": [
       "   RecordID       Age  Gender    Height    Weight     Urine        HR  \\\n",
       "0  141440.0 -0.241902       1  0.534089  0.375382  0.305869 -0.461563   \n",
       "1  134223.0 -1.779597       0  0.014848 -0.770372  1.861797  0.956955   \n",
       "2  135059.0  1.466648       0  0.014848 -0.121832  0.049964 -0.029592   \n",
       "3  135910.0 -0.469709       1  0.014848  0.719541  0.104149  0.474452   \n",
       "4  135674.0 -1.380935       1  0.534089 -0.554192 -0.330337 -1.010333   \n",
       "\n",
       "       Temp  NIDiasABP    SysABP  ...  Platelets       MAP         K  \\\n",
       "0 -0.256135   0.913046 -0.155726  ...  -0.318115 -0.522349 -0.174373   \n",
       "1  0.665115   0.036951 -0.133355  ...  -1.023679  0.773486  0.092419   \n",
       "2  0.024065   0.036951  0.026672  ...  -1.739497  0.013230  1.713692   \n",
       "3 -0.861136   1.706669  0.295931  ...  -0.296142  1.194268  0.687570   \n",
       "4  0.060115   1.137311  0.026672  ...  -0.100831  0.013230 -0.276985   \n",
       "\n",
       "         Na      FiO2       GCS  ICUType  In-hospital_death  age_group  \\\n",
       "0  0.158233 -0.757629 -0.998848        1                  0          4   \n",
       "1  2.364500 -1.045932 -0.323981        2                  0          1   \n",
       "2  0.200186 -0.021040  0.102889        1                  0          7   \n",
       "3  0.676483  1.164387  0.038218        2                  0          3   \n",
       "4  0.651805  0.107278  0.047505        3                  0          1   \n",
       "\n",
       "   bmi_group  \n",
       "0          2  \n",
       "1          0  \n",
       "2          2  \n",
       "3          1  \n",
       "4          0  \n",
       "\n",
       "[5 rows x 24 columns]"
      ]
     },
     "execution_count": 29,
     "metadata": {},
     "output_type": "execute_result"
    }
   ],
   "source": [
    "df.head()"
   ]
  },
  {
   "cell_type": "code",
   "execution_count": 30,
   "id": "f1c5dafe",
   "metadata": {
    "execution": {
     "iopub.execute_input": "2022-04-14T13:33:29.261234Z",
     "iopub.status.busy": "2022-04-14T13:33:29.260601Z",
     "iopub.status.idle": "2022-04-14T13:33:29.265637Z",
     "shell.execute_reply": "2022-04-14T13:33:29.266136Z",
     "shell.execute_reply.started": "2022-04-14T12:58:59.432269Z"
    },
    "papermill": {
     "duration": 0.086057,
     "end_time": "2022-04-14T13:33:29.266311",
     "exception": false,
     "start_time": "2022-04-14T13:33:29.180254",
     "status": "completed"
    },
    "tags": []
   },
   "outputs": [],
   "source": [
    "X=df.drop(['RecordID','In-hospital_death'],axis=1)\n",
    "y=df['In-hospital_death'].copy()"
   ]
  },
  {
   "cell_type": "markdown",
   "id": "e999667a",
   "metadata": {
    "papermill": {
     "duration": 0.077041,
     "end_time": "2022-04-14T13:33:29.420615",
     "exception": false,
     "start_time": "2022-04-14T13:33:29.343574",
     "status": "completed"
    },
    "tags": []
   },
   "source": [
    "# Train, Test Split"
   ]
  },
  {
   "cell_type": "code",
   "execution_count": 31,
   "id": "59987534",
   "metadata": {
    "execution": {
     "iopub.execute_input": "2022-04-14T13:33:29.577718Z",
     "iopub.status.busy": "2022-04-14T13:33:29.577128Z",
     "iopub.status.idle": "2022-04-14T13:33:29.626711Z",
     "shell.execute_reply": "2022-04-14T13:33:29.626139Z",
     "shell.execute_reply.started": "2022-04-14T12:58:59.441775Z"
    },
    "papermill": {
     "duration": 0.128949,
     "end_time": "2022-04-14T13:33:29.626852",
     "exception": false,
     "start_time": "2022-04-14T13:33:29.497903",
     "status": "completed"
    },
    "tags": []
   },
   "outputs": [],
   "source": [
    "from sklearn.model_selection import train_test_split\n",
    "from sklearn.metrics import classification_report\n",
    "X_train,X_test,y_train,y_test=train_test_split(X,y,random_state=0,test_size=0.2)"
   ]
  },
  {
   "cell_type": "code",
   "execution_count": 32,
   "id": "087d1913",
   "metadata": {
    "execution": {
     "iopub.execute_input": "2022-04-14T13:33:29.785289Z",
     "iopub.status.busy": "2022-04-14T13:33:29.784637Z",
     "iopub.status.idle": "2022-04-14T13:33:29.788808Z",
     "shell.execute_reply": "2022-04-14T13:33:29.789415Z",
     "shell.execute_reply.started": "2022-04-14T12:58:59.478355Z"
    },
    "papermill": {
     "duration": 0.084773,
     "end_time": "2022-04-14T13:33:29.789581",
     "exception": false,
     "start_time": "2022-04-14T13:33:29.704808",
     "status": "completed"
    },
    "tags": []
   },
   "outputs": [
    {
     "data": {
      "text/plain": [
       "(3200, 22)"
      ]
     },
     "execution_count": 32,
     "metadata": {},
     "output_type": "execute_result"
    }
   ],
   "source": [
    "X_train.shape"
   ]
  },
  {
   "cell_type": "code",
   "execution_count": 33,
   "id": "7e0b7f0e",
   "metadata": {
    "execution": {
     "iopub.execute_input": "2022-04-14T13:33:29.949633Z",
     "iopub.status.busy": "2022-04-14T13:33:29.948928Z",
     "iopub.status.idle": "2022-04-14T13:33:29.953547Z",
     "shell.execute_reply": "2022-04-14T13:33:29.954142Z",
     "shell.execute_reply.started": "2022-04-14T12:58:59.486160Z"
    },
    "papermill": {
     "duration": 0.086597,
     "end_time": "2022-04-14T13:33:29.954311",
     "exception": false,
     "start_time": "2022-04-14T13:33:29.867714",
     "status": "completed"
    },
    "tags": []
   },
   "outputs": [
    {
     "data": {
      "text/plain": [
       "(800, 22)"
      ]
     },
     "execution_count": 33,
     "metadata": {},
     "output_type": "execute_result"
    }
   ],
   "source": [
    "X_test.shape"
   ]
  },
  {
   "cell_type": "markdown",
   "id": "ebcca56f",
   "metadata": {
    "papermill": {
     "duration": 0.078062,
     "end_time": "2022-04-14T13:33:30.110420",
     "exception": false,
     "start_time": "2022-04-14T13:33:30.032358",
     "status": "completed"
    },
    "tags": []
   },
   "source": [
    "# Building the model usig ANN"
   ]
  },
  {
   "cell_type": "code",
   "execution_count": 34,
   "id": "147c653e",
   "metadata": {
    "execution": {
     "iopub.execute_input": "2022-04-14T13:33:30.270668Z",
     "iopub.status.busy": "2022-04-14T13:33:30.269931Z",
     "iopub.status.idle": "2022-04-14T13:33:34.901485Z",
     "shell.execute_reply": "2022-04-14T13:33:34.900853Z",
     "shell.execute_reply.started": "2022-04-14T12:58:59.501526Z"
    },
    "papermill": {
     "duration": 4.712677,
     "end_time": "2022-04-14T13:33:34.901633",
     "exception": false,
     "start_time": "2022-04-14T13:33:30.188956",
     "status": "completed"
    },
    "tags": []
   },
   "outputs": [],
   "source": [
    "import tensorflow as tf\n",
    "from tensorflow import keras"
   ]
  },
  {
   "cell_type": "code",
   "execution_count": 35,
   "id": "d2c09b68",
   "metadata": {
    "execution": {
     "iopub.execute_input": "2022-04-14T13:33:35.060576Z",
     "iopub.status.busy": "2022-04-14T13:33:35.059975Z",
     "iopub.status.idle": "2022-04-14T13:33:35.066950Z",
     "shell.execute_reply": "2022-04-14T13:33:35.067406Z",
     "shell.execute_reply.started": "2022-04-14T12:59:01.638928Z"
    },
    "papermill": {
     "duration": 0.087861,
     "end_time": "2022-04-14T13:33:35.067563",
     "exception": false,
     "start_time": "2022-04-14T13:33:34.979702",
     "status": "completed"
    },
    "tags": []
   },
   "outputs": [],
   "source": [
    "def ANN(X_train,y_train,X_test,y_test,loss,weights):\n",
    "    model=keras.Sequential([\n",
    "        keras.layers.Dense(20,input_shape=(22,),activation='relu'),\n",
    "        keras.layers.Dense(40,activation='relu'),\n",
    "        keras.layers.Dense(80,activation='relu'),\n",
    "        keras.layers.Dense(40,activation='relu'),\n",
    "        keras.layers.Dense(20,activation='relu'),\n",
    "        keras.layers.Dense(1,activation='sigmoid')            \n",
    "    ])\n",
    "    model.compile(optimizer='adam',loss=loss,metrics=['accuracy'])\n",
    "    \n",
    "    if weights==-1:\n",
    "        model.fit(X_train,y_train,epochs=100)\n",
    "\n",
    "    else:\n",
    "        model.fit(X_train,y_train,epochs=100,class_weight=weights)\n",
    "        \n",
    "    print(model.evaluate(X_test,y_test))\n",
    "\n",
    "    y_pred=model.predict(X_test)\n",
    "    y_pred=np.round(y_pred)\n",
    "    \n",
    "    print('Classification Report :\\n',classification_report(y_test,y_pred))\n",
    "\n",
    "    return y_pred"
   ]
  },
  {
   "cell_type": "markdown",
   "id": "c996ca60",
   "metadata": {
    "papermill": {
     "duration": 0.077008,
     "end_time": "2022-04-14T13:33:35.222100",
     "exception": false,
     "start_time": "2022-04-14T13:33:35.145092",
     "status": "completed"
    },
    "tags": []
   },
   "source": [
    "# Training the Model"
   ]
  },
  {
   "cell_type": "code",
   "execution_count": 36,
   "id": "5204b080",
   "metadata": {
    "execution": {
     "iopub.execute_input": "2022-04-14T13:33:35.379862Z",
     "iopub.status.busy": "2022-04-14T13:33:35.379297Z",
     "iopub.status.idle": "2022-04-14T13:34:18.818741Z",
     "shell.execute_reply": "2022-04-14T13:34:18.815332Z",
     "shell.execute_reply.started": "2022-04-14T12:59:01.651172Z"
    },
    "papermill": {
     "duration": 43.519607,
     "end_time": "2022-04-14T13:34:18.818984",
     "exception": false,
     "start_time": "2022-04-14T13:33:35.299377",
     "status": "completed"
    },
    "tags": []
   },
   "outputs": [
    {
     "name": "stderr",
     "output_type": "stream",
     "text": [
      "2022-04-14 13:33:36.420307: I tensorflow/core/common_runtime/process_util.cc:146] Creating new thread pool with default inter op setting: 2. Tune using inter_op_parallelism_threads for best performance.\n",
      "2022-04-14 13:33:36.597819: I tensorflow/compiler/mlir/mlir_graph_optimization_pass.cc:185] None of the MLIR Optimization Passes are enabled (registered 2)\n"
     ]
    },
    {
     "name": "stdout",
     "output_type": "stream",
     "text": [
      "Epoch 1/100\n",
      "100/100 [==============================] - 1s 2ms/step - loss: 0.4328 - accuracy: 0.8388\n",
      "Epoch 2/100\n",
      "100/100 [==============================] - 0s 2ms/step - loss: 0.3595 - accuracy: 0.8584\n",
      "Epoch 3/100\n",
      "100/100 [==============================] - 0s 2ms/step - loss: 0.3382 - accuracy: 0.8619\n",
      "Epoch 4/100\n",
      "100/100 [==============================] - 0s 3ms/step - loss: 0.3299 - accuracy: 0.8659\n",
      "Epoch 5/100\n",
      "100/100 [==============================] - 0s 2ms/step - loss: 0.3190 - accuracy: 0.8734\n",
      "Epoch 6/100\n",
      "100/100 [==============================] - 0s 3ms/step - loss: 0.3134 - accuracy: 0.8759\n",
      "Epoch 7/100\n",
      "100/100 [==============================] - 0s 3ms/step - loss: 0.3057 - accuracy: 0.8822\n",
      "Epoch 8/100\n",
      "100/100 [==============================] - 0s 2ms/step - loss: 0.3012 - accuracy: 0.8828\n",
      "Epoch 9/100\n",
      "100/100 [==============================] - 0s 3ms/step - loss: 0.2941 - accuracy: 0.8828\n",
      "Epoch 10/100\n",
      "100/100 [==============================] - 0s 2ms/step - loss: 0.2903 - accuracy: 0.8828\n",
      "Epoch 11/100\n",
      "100/100 [==============================] - 0s 3ms/step - loss: 0.2823 - accuracy: 0.8919\n",
      "Epoch 12/100\n",
      "100/100 [==============================] - 0s 2ms/step - loss: 0.2775 - accuracy: 0.8903\n",
      "Epoch 13/100\n",
      "100/100 [==============================] - 0s 3ms/step - loss: 0.2733 - accuracy: 0.8931\n",
      "Epoch 14/100\n",
      "100/100 [==============================] - 0s 2ms/step - loss: 0.2660 - accuracy: 0.8950\n",
      "Epoch 15/100\n",
      "100/100 [==============================] - 0s 2ms/step - loss: 0.2580 - accuracy: 0.9013\n",
      "Epoch 16/100\n",
      "100/100 [==============================] - 0s 2ms/step - loss: 0.2536 - accuracy: 0.9025\n",
      "Epoch 17/100\n",
      "100/100 [==============================] - 0s 2ms/step - loss: 0.2420 - accuracy: 0.9069\n",
      "Epoch 18/100\n",
      "100/100 [==============================] - 0s 2ms/step - loss: 0.2345 - accuracy: 0.9069\n",
      "Epoch 19/100\n",
      "100/100 [==============================] - 0s 2ms/step - loss: 0.2297 - accuracy: 0.9091\n",
      "Epoch 20/100\n",
      "100/100 [==============================] - 0s 2ms/step - loss: 0.2238 - accuracy: 0.9125\n",
      "Epoch 21/100\n",
      "100/100 [==============================] - 0s 2ms/step - loss: 0.2136 - accuracy: 0.9166\n",
      "Epoch 22/100\n",
      "100/100 [==============================] - 0s 2ms/step - loss: 0.2071 - accuracy: 0.9172\n",
      "Epoch 23/100\n",
      "100/100 [==============================] - 0s 2ms/step - loss: 0.1991 - accuracy: 0.9250\n",
      "Epoch 24/100\n",
      "100/100 [==============================] - 0s 2ms/step - loss: 0.1937 - accuracy: 0.9247\n",
      "Epoch 25/100\n",
      "100/100 [==============================] - 0s 2ms/step - loss: 0.1856 - accuracy: 0.9300\n",
      "Epoch 26/100\n",
      "100/100 [==============================] - 0s 2ms/step - loss: 0.1736 - accuracy: 0.9331\n",
      "Epoch 27/100\n",
      "100/100 [==============================] - 0s 2ms/step - loss: 0.1735 - accuracy: 0.9344\n",
      "Epoch 28/100\n",
      "100/100 [==============================] - 0s 2ms/step - loss: 0.1644 - accuracy: 0.9366\n",
      "Epoch 29/100\n",
      "100/100 [==============================] - 0s 2ms/step - loss: 0.1530 - accuracy: 0.9434\n",
      "Epoch 30/100\n",
      "100/100 [==============================] - 0s 2ms/step - loss: 0.1516 - accuracy: 0.9428\n",
      "Epoch 31/100\n",
      "100/100 [==============================] - 0s 2ms/step - loss: 0.1444 - accuracy: 0.9456\n",
      "Epoch 32/100\n",
      "100/100 [==============================] - 0s 2ms/step - loss: 0.1390 - accuracy: 0.9484\n",
      "Epoch 33/100\n",
      "100/100 [==============================] - 0s 2ms/step - loss: 0.1301 - accuracy: 0.9531\n",
      "Epoch 34/100\n",
      "100/100 [==============================] - 0s 2ms/step - loss: 0.1309 - accuracy: 0.9516\n",
      "Epoch 35/100\n",
      "100/100 [==============================] - 0s 3ms/step - loss: 0.1357 - accuracy: 0.9541\n",
      "Epoch 36/100\n",
      "100/100 [==============================] - 0s 2ms/step - loss: 0.1200 - accuracy: 0.9563\n",
      "Epoch 37/100\n",
      "100/100 [==============================] - 0s 2ms/step - loss: 0.1139 - accuracy: 0.9622\n",
      "Epoch 38/100\n",
      "100/100 [==============================] - 0s 2ms/step - loss: 0.1116 - accuracy: 0.9619\n",
      "Epoch 39/100\n",
      "100/100 [==============================] - 0s 2ms/step - loss: 0.1132 - accuracy: 0.9616\n",
      "Epoch 40/100\n",
      "100/100 [==============================] - 0s 2ms/step - loss: 0.0920 - accuracy: 0.9684\n",
      "Epoch 41/100\n",
      "100/100 [==============================] - 0s 2ms/step - loss: 0.0913 - accuracy: 0.9712\n",
      "Epoch 42/100\n",
      "100/100 [==============================] - 0s 2ms/step - loss: 0.0883 - accuracy: 0.9697\n",
      "Epoch 43/100\n",
      "100/100 [==============================] - 0s 2ms/step - loss: 0.0902 - accuracy: 0.9678\n",
      "Epoch 44/100\n",
      "100/100 [==============================] - 0s 2ms/step - loss: 0.0824 - accuracy: 0.9716\n",
      "Epoch 45/100\n",
      "100/100 [==============================] - 0s 2ms/step - loss: 0.0762 - accuracy: 0.9747\n",
      "Epoch 46/100\n",
      "100/100 [==============================] - 0s 2ms/step - loss: 0.0691 - accuracy: 0.9769\n",
      "Epoch 47/100\n",
      "100/100 [==============================] - 0s 2ms/step - loss: 0.0739 - accuracy: 0.9762\n",
      "Epoch 48/100\n",
      "100/100 [==============================] - 0s 2ms/step - loss: 0.0700 - accuracy: 0.9753\n",
      "Epoch 49/100\n",
      "100/100 [==============================] - 0s 2ms/step - loss: 0.0651 - accuracy: 0.9797\n",
      "Epoch 50/100\n",
      "100/100 [==============================] - 0s 2ms/step - loss: 0.0995 - accuracy: 0.9656\n",
      "Epoch 51/100\n",
      "100/100 [==============================] - 0s 2ms/step - loss: 0.0913 - accuracy: 0.9681\n",
      "Epoch 52/100\n",
      "100/100 [==============================] - 0s 2ms/step - loss: 0.0668 - accuracy: 0.9784\n",
      "Epoch 53/100\n",
      "100/100 [==============================] - 0s 2ms/step - loss: 0.0502 - accuracy: 0.9847\n",
      "Epoch 54/100\n",
      "100/100 [==============================] - 0s 2ms/step - loss: 0.0530 - accuracy: 0.9837\n",
      "Epoch 55/100\n",
      "100/100 [==============================] - 0s 2ms/step - loss: 0.0473 - accuracy: 0.9834\n",
      "Epoch 56/100\n",
      "100/100 [==============================] - 0s 2ms/step - loss: 0.0536 - accuracy: 0.9837\n",
      "Epoch 57/100\n",
      "100/100 [==============================] - 0s 2ms/step - loss: 0.0457 - accuracy: 0.9834\n",
      "Epoch 58/100\n",
      "100/100 [==============================] - 0s 2ms/step - loss: 0.0482 - accuracy: 0.9831\n",
      "Epoch 59/100\n",
      "100/100 [==============================] - 0s 2ms/step - loss: 0.1186 - accuracy: 0.9659\n",
      "Epoch 60/100\n",
      "100/100 [==============================] - 0s 2ms/step - loss: 0.0760 - accuracy: 0.9737\n",
      "Epoch 61/100\n",
      "100/100 [==============================] - 0s 2ms/step - loss: 0.0480 - accuracy: 0.9866\n",
      "Epoch 62/100\n",
      "100/100 [==============================] - 0s 2ms/step - loss: 0.0420 - accuracy: 0.9869\n",
      "Epoch 63/100\n",
      "100/100 [==============================] - 0s 2ms/step - loss: 0.0339 - accuracy: 0.9900\n",
      "Epoch 64/100\n",
      "100/100 [==============================] - 0s 2ms/step - loss: 0.0300 - accuracy: 0.9916\n",
      "Epoch 65/100\n",
      "100/100 [==============================] - 0s 2ms/step - loss: 0.0305 - accuracy: 0.9919\n",
      "Epoch 66/100\n",
      "100/100 [==============================] - 0s 2ms/step - loss: 0.0349 - accuracy: 0.9891\n",
      "Epoch 67/100\n",
      "100/100 [==============================] - 0s 2ms/step - loss: 0.0283 - accuracy: 0.9916\n",
      "Epoch 68/100\n",
      "100/100 [==============================] - 0s 2ms/step - loss: 0.0763 - accuracy: 0.9728\n",
      "Epoch 69/100\n",
      "100/100 [==============================] - 0s 2ms/step - loss: 0.0961 - accuracy: 0.9672\n",
      "Epoch 70/100\n",
      "100/100 [==============================] - 0s 2ms/step - loss: 0.0348 - accuracy: 0.9903\n",
      "Epoch 71/100\n",
      "100/100 [==============================] - 0s 2ms/step - loss: 0.0238 - accuracy: 0.9934\n",
      "Epoch 72/100\n",
      "100/100 [==============================] - 0s 2ms/step - loss: 0.0198 - accuracy: 0.9956\n",
      "Epoch 73/100\n",
      "100/100 [==============================] - 0s 2ms/step - loss: 0.0184 - accuracy: 0.9959\n",
      "Epoch 74/100\n",
      "100/100 [==============================] - 0s 2ms/step - loss: 0.0131 - accuracy: 0.9981\n",
      "Epoch 75/100\n",
      "100/100 [==============================] - 0s 2ms/step - loss: 0.0128 - accuracy: 0.9975\n",
      "Epoch 76/100\n",
      "100/100 [==============================] - 0s 2ms/step - loss: 0.0175 - accuracy: 0.9950\n",
      "Epoch 77/100\n",
      "100/100 [==============================] - 0s 2ms/step - loss: 0.0735 - accuracy: 0.9759\n",
      "Epoch 78/100\n",
      "100/100 [==============================] - 0s 2ms/step - loss: 0.0691 - accuracy: 0.9766\n",
      "Epoch 79/100\n",
      "100/100 [==============================] - 0s 2ms/step - loss: 0.0320 - accuracy: 0.9906\n",
      "Epoch 80/100\n",
      "100/100 [==============================] - 0s 2ms/step - loss: 0.0206 - accuracy: 0.9953\n",
      "Epoch 81/100\n",
      "100/100 [==============================] - 0s 2ms/step - loss: 0.0345 - accuracy: 0.9884\n",
      "Epoch 82/100\n",
      "100/100 [==============================] - 0s 3ms/step - loss: 0.0592 - accuracy: 0.9841\n",
      "Epoch 83/100\n",
      "100/100 [==============================] - 0s 2ms/step - loss: 0.0429 - accuracy: 0.9866\n",
      "Epoch 84/100\n",
      "100/100 [==============================] - 0s 2ms/step - loss: 0.0253 - accuracy: 0.9934\n",
      "Epoch 85/100\n",
      "100/100 [==============================] - 0s 2ms/step - loss: 0.0165 - accuracy: 0.9969\n",
      "Epoch 86/100\n",
      "100/100 [==============================] - 0s 2ms/step - loss: 0.0623 - accuracy: 0.9800\n",
      "Epoch 87/100\n",
      "100/100 [==============================] - 0s 2ms/step - loss: 0.0419 - accuracy: 0.9844\n",
      "Epoch 88/100\n",
      "100/100 [==============================] - 0s 3ms/step - loss: 0.0238 - accuracy: 0.9922\n",
      "Epoch 89/100\n",
      "100/100 [==============================] - 0s 4ms/step - loss: 0.0115 - accuracy: 0.9981\n",
      "Epoch 90/100\n",
      "100/100 [==============================] - 0s 3ms/step - loss: 0.0104 - accuracy: 0.9978\n",
      "Epoch 91/100\n",
      "100/100 [==============================] - 0s 3ms/step - loss: 0.0068 - accuracy: 0.9978\n",
      "Epoch 92/100\n",
      "100/100 [==============================] - 0s 2ms/step - loss: 0.0080 - accuracy: 0.9981\n",
      "Epoch 93/100\n",
      "100/100 [==============================] - 0s 2ms/step - loss: 0.0073 - accuracy: 0.9978\n",
      "Epoch 94/100\n",
      "100/100 [==============================] - 0s 2ms/step - loss: 0.0052 - accuracy: 0.9987\n",
      "Epoch 95/100\n",
      "100/100 [==============================] - 0s 2ms/step - loss: 0.0048 - accuracy: 0.9981\n",
      "Epoch 96/100\n",
      "100/100 [==============================] - 0s 2ms/step - loss: 0.0058 - accuracy: 0.9991\n",
      "Epoch 97/100\n",
      "100/100 [==============================] - 0s 3ms/step - loss: 0.0123 - accuracy: 0.9953\n",
      "Epoch 98/100\n",
      "100/100 [==============================] - 0s 2ms/step - loss: 0.1345 - accuracy: 0.9581\n",
      "Epoch 99/100\n",
      "100/100 [==============================] - 0s 2ms/step - loss: 0.0782 - accuracy: 0.9731\n",
      "Epoch 100/100\n",
      "100/100 [==============================] - 0s 2ms/step - loss: 0.0218 - accuracy: 0.9941\n",
      "25/25 [==============================] - 0s 2ms/step - loss: 1.2890 - accuracy: 0.8238\n",
      "[1.2889541387557983, 0.8237500190734863]\n",
      "Classification Report :\n",
      "               precision    recall  f1-score   support\n",
      "\n",
      "           0       0.90      0.90      0.90       699\n",
      "           1       0.31      0.32      0.31       101\n",
      "\n",
      "    accuracy                           0.82       800\n",
      "   macro avg       0.60      0.61      0.61       800\n",
      "weighted avg       0.83      0.82      0.82       800\n",
      "\n"
     ]
    }
   ],
   "source": [
    "y_pred=ANN(X_train,y_train,X_test,y_test,'binary_crossentropy',0)"
   ]
  },
  {
   "cell_type": "markdown",
   "id": "1621bcd1",
   "metadata": {
    "papermill": {
     "duration": 0.244753,
     "end_time": "2022-04-14T13:34:19.313530",
     "exception": false,
     "start_time": "2022-04-14T13:34:19.068777",
     "status": "completed"
    },
    "tags": []
   },
   "source": [
    "# Imbalanced Dataset Handling"
   ]
  },
  {
   "cell_type": "markdown",
   "id": "40986253",
   "metadata": {
    "papermill": {
     "duration": 0.247084,
     "end_time": "2022-04-14T13:34:19.806655",
     "exception": false,
     "start_time": "2022-04-14T13:34:19.559571",
     "status": "completed"
    },
    "tags": []
   },
   "source": [
    "Due to imbalanced dataset, precision, recal and f1 score for Class 1 is not acceptable.\n",
    "We need to have approximately equal no of records for both the classes for the model to perform best.\n",
    "Hence , we need to balance the dataset using sampling techniques for better model performance."
   ]
  },
  {
   "cell_type": "code",
   "execution_count": 37,
   "id": "f0d953b4",
   "metadata": {
    "execution": {
     "iopub.execute_input": "2022-04-14T13:34:20.305674Z",
     "iopub.status.busy": "2022-04-14T13:34:20.305055Z",
     "iopub.status.idle": "2022-04-14T13:34:20.309014Z",
     "shell.execute_reply": "2022-04-14T13:34:20.309503Z",
     "shell.execute_reply.started": "2022-04-14T12:59:39.190137Z"
    },
    "papermill": {
     "duration": 0.254775,
     "end_time": "2022-04-14T13:34:20.309661",
     "exception": false,
     "start_time": "2022-04-14T13:34:20.054886",
     "status": "completed"
    },
    "tags": []
   },
   "outputs": [],
   "source": [
    "inhospitaldeath_0,inhospitaldeath_1=df['In-hospital_death'].value_counts()"
   ]
  },
  {
   "cell_type": "code",
   "execution_count": 38,
   "id": "a8838d53",
   "metadata": {
    "execution": {
     "iopub.execute_input": "2022-04-14T13:34:20.807105Z",
     "iopub.status.busy": "2022-04-14T13:34:20.806517Z",
     "iopub.status.idle": "2022-04-14T13:34:20.810505Z",
     "shell.execute_reply": "2022-04-14T13:34:20.811041Z",
     "shell.execute_reply.started": "2022-04-14T12:59:39.196963Z"
    },
    "papermill": {
     "duration": 0.256373,
     "end_time": "2022-04-14T13:34:20.811207",
     "exception": false,
     "start_time": "2022-04-14T13:34:20.554834",
     "status": "completed"
    },
    "tags": []
   },
   "outputs": [
    {
     "data": {
      "text/plain": [
       "3446"
      ]
     },
     "execution_count": 38,
     "metadata": {},
     "output_type": "execute_result"
    }
   ],
   "source": [
    "inhospitaldeath_0"
   ]
  },
  {
   "cell_type": "code",
   "execution_count": 39,
   "id": "e71661d4",
   "metadata": {
    "execution": {
     "iopub.execute_input": "2022-04-14T13:34:21.311643Z",
     "iopub.status.busy": "2022-04-14T13:34:21.311082Z",
     "iopub.status.idle": "2022-04-14T13:34:21.315234Z",
     "shell.execute_reply": "2022-04-14T13:34:21.315759Z",
     "shell.execute_reply.started": "2022-04-14T12:59:39.214472Z"
    },
    "papermill": {
     "duration": 0.253673,
     "end_time": "2022-04-14T13:34:21.315918",
     "exception": false,
     "start_time": "2022-04-14T13:34:21.062245",
     "status": "completed"
    },
    "tags": []
   },
   "outputs": [
    {
     "data": {
      "text/plain": [
       "554"
      ]
     },
     "execution_count": 39,
     "metadata": {},
     "output_type": "execute_result"
    }
   ],
   "source": [
    "inhospitaldeath_1"
   ]
  },
  {
   "cell_type": "code",
   "execution_count": 40,
   "id": "c9b86d95",
   "metadata": {
    "execution": {
     "iopub.execute_input": "2022-04-14T13:34:21.810293Z",
     "iopub.status.busy": "2022-04-14T13:34:21.809636Z",
     "iopub.status.idle": "2022-04-14T13:34:21.815123Z",
     "shell.execute_reply": "2022-04-14T13:34:21.815588Z",
     "shell.execute_reply.started": "2022-04-14T12:59:39.229921Z"
    },
    "papermill": {
     "duration": 0.254268,
     "end_time": "2022-04-14T13:34:21.815763",
     "exception": false,
     "start_time": "2022-04-14T13:34:21.561495",
     "status": "completed"
    },
    "tags": []
   },
   "outputs": [],
   "source": [
    "df_0=df[df['In-hospital_death']==0]\n",
    "df_1=df[df['In-hospital_death']==1]"
   ]
  },
  {
   "cell_type": "code",
   "execution_count": 41,
   "id": "35d583ce",
   "metadata": {
    "execution": {
     "iopub.execute_input": "2022-04-14T13:34:22.312852Z",
     "iopub.status.busy": "2022-04-14T13:34:22.312266Z",
     "iopub.status.idle": "2022-04-14T13:34:22.316291Z",
     "shell.execute_reply": "2022-04-14T13:34:22.316806Z",
     "shell.execute_reply.started": "2022-04-14T12:59:39.245546Z"
    },
    "papermill": {
     "duration": 0.253412,
     "end_time": "2022-04-14T13:34:22.316968",
     "exception": false,
     "start_time": "2022-04-14T13:34:22.063556",
     "status": "completed"
    },
    "tags": []
   },
   "outputs": [
    {
     "data": {
      "text/plain": [
       "(3446, 24)"
      ]
     },
     "execution_count": 41,
     "metadata": {},
     "output_type": "execute_result"
    }
   ],
   "source": [
    "df_0.shape"
   ]
  },
  {
   "cell_type": "code",
   "execution_count": 42,
   "id": "6d6a8db7",
   "metadata": {
    "execution": {
     "iopub.execute_input": "2022-04-14T13:34:22.814202Z",
     "iopub.status.busy": "2022-04-14T13:34:22.813483Z",
     "iopub.status.idle": "2022-04-14T13:34:22.815950Z",
     "shell.execute_reply": "2022-04-14T13:34:22.816410Z",
     "shell.execute_reply.started": "2022-04-14T12:59:39.256627Z"
    },
    "papermill": {
     "duration": 0.253664,
     "end_time": "2022-04-14T13:34:22.816580",
     "exception": false,
     "start_time": "2022-04-14T13:34:22.562916",
     "status": "completed"
    },
    "tags": []
   },
   "outputs": [
    {
     "data": {
      "text/plain": [
       "(3446, 554)"
      ]
     },
     "execution_count": 42,
     "metadata": {},
     "output_type": "execute_result"
    }
   ],
   "source": [
    "inhospitaldeath_0,inhospitaldeath_1"
   ]
  },
  {
   "cell_type": "markdown",
   "id": "49b17c40",
   "metadata": {
    "papermill": {
     "duration": 0.245968,
     "end_time": "2022-04-14T13:34:23.309306",
     "exception": false,
     "start_time": "2022-04-14T13:34:23.063338",
     "status": "completed"
    },
    "tags": []
   },
   "source": [
    "# Applying Oversampling Method to balance the dataset"
   ]
  },
  {
   "cell_type": "code",
   "execution_count": 43,
   "id": "80dabe7d",
   "metadata": {
    "execution": {
     "iopub.execute_input": "2022-04-14T13:34:23.811211Z",
     "iopub.status.busy": "2022-04-14T13:34:23.810316Z",
     "iopub.status.idle": "2022-04-14T13:34:23.813609Z",
     "shell.execute_reply": "2022-04-14T13:34:23.814051Z",
     "shell.execute_reply.started": "2022-04-14T12:59:39.272662Z"
    },
    "papermill": {
     "duration": 0.257538,
     "end_time": "2022-04-14T13:34:23.814232",
     "exception": false,
     "start_time": "2022-04-14T13:34:23.556694",
     "status": "completed"
    },
    "tags": []
   },
   "outputs": [],
   "source": [
    "df_1_over=df_1.sample(inhospitaldeath_0,replace=True)"
   ]
  },
  {
   "cell_type": "code",
   "execution_count": 44,
   "id": "2160936c",
   "metadata": {
    "execution": {
     "iopub.execute_input": "2022-04-14T13:34:24.322363Z",
     "iopub.status.busy": "2022-04-14T13:34:24.321362Z",
     "iopub.status.idle": "2022-04-14T13:34:24.324969Z",
     "shell.execute_reply": "2022-04-14T13:34:24.325433Z",
     "shell.execute_reply.started": "2022-04-14T12:59:39.287895Z"
    },
    "papermill": {
     "duration": 0.260794,
     "end_time": "2022-04-14T13:34:24.325619",
     "exception": false,
     "start_time": "2022-04-14T13:34:24.064825",
     "status": "completed"
    },
    "tags": []
   },
   "outputs": [
    {
     "data": {
      "text/plain": [
       "1    3446\n",
       "Name: In-hospital_death, dtype: int64"
      ]
     },
     "execution_count": 44,
     "metadata": {},
     "output_type": "execute_result"
    }
   ],
   "source": [
    "df_1_over['In-hospital_death'].value_counts()"
   ]
  },
  {
   "cell_type": "code",
   "execution_count": 45,
   "id": "a01ecbae",
   "metadata": {
    "execution": {
     "iopub.execute_input": "2022-04-14T13:34:24.826054Z",
     "iopub.status.busy": "2022-04-14T13:34:24.825448Z",
     "iopub.status.idle": "2022-04-14T13:34:24.832766Z",
     "shell.execute_reply": "2022-04-14T13:34:24.832197Z",
     "shell.execute_reply.started": "2022-04-14T12:59:39.305797Z"
    },
    "papermill": {
     "duration": 0.25924,
     "end_time": "2022-04-14T13:34:24.832912",
     "exception": false,
     "start_time": "2022-04-14T13:34:24.573672",
     "status": "completed"
    },
    "tags": []
   },
   "outputs": [
    {
     "data": {
      "text/plain": [
       "0    3446\n",
       "Name: In-hospital_death, dtype: int64"
      ]
     },
     "execution_count": 45,
     "metadata": {},
     "output_type": "execute_result"
    }
   ],
   "source": [
    "df_0['In-hospital_death'].value_counts()"
   ]
  },
  {
   "cell_type": "code",
   "execution_count": 46,
   "id": "5ef71d5c",
   "metadata": {
    "execution": {
     "iopub.execute_input": "2022-04-14T13:34:25.338843Z",
     "iopub.status.busy": "2022-04-14T13:34:25.337665Z",
     "iopub.status.idle": "2022-04-14T13:34:25.345395Z",
     "shell.execute_reply": "2022-04-14T13:34:25.345804Z",
     "shell.execute_reply.started": "2022-04-14T12:59:39.324288Z"
    },
    "papermill": {
     "duration": 0.262298,
     "end_time": "2022-04-14T13:34:25.345973",
     "exception": false,
     "start_time": "2022-04-14T13:34:25.083675",
     "status": "completed"
    },
    "tags": []
   },
   "outputs": [
    {
     "data": {
      "text/plain": [
       "0    3446\n",
       "1    3446\n",
       "Name: In-hospital_death, dtype: int64"
      ]
     },
     "execution_count": 46,
     "metadata": {},
     "output_type": "execute_result"
    }
   ],
   "source": [
    "df_oversamp=pd.concat([df_0,df_1_over],axis=0)\n",
    "df_oversamp['In-hospital_death'].value_counts()"
   ]
  },
  {
   "cell_type": "code",
   "execution_count": 47,
   "id": "1165f8d4",
   "metadata": {
    "execution": {
     "iopub.execute_input": "2022-04-14T13:34:25.914333Z",
     "iopub.status.busy": "2022-04-14T13:34:25.913248Z",
     "iopub.status.idle": "2022-04-14T13:34:25.919600Z",
     "shell.execute_reply": "2022-04-14T13:34:25.918907Z",
     "shell.execute_reply.started": "2022-04-14T12:59:39.341950Z"
    },
    "papermill": {
     "duration": 0.322763,
     "end_time": "2022-04-14T13:34:25.919746",
     "exception": false,
     "start_time": "2022-04-14T13:34:25.596983",
     "status": "completed"
    },
    "tags": []
   },
   "outputs": [],
   "source": [
    "X=df_oversamp.drop(['RecordID','In-hospital_death'],axis=1)\n",
    "y=df_oversamp['In-hospital_death']"
   ]
  },
  {
   "cell_type": "code",
   "execution_count": 48,
   "id": "6941289e",
   "metadata": {
    "execution": {
     "iopub.execute_input": "2022-04-14T13:34:26.432151Z",
     "iopub.status.busy": "2022-04-14T13:34:26.431136Z",
     "iopub.status.idle": "2022-04-14T13:34:26.436125Z",
     "shell.execute_reply": "2022-04-14T13:34:26.436562Z",
     "shell.execute_reply.started": "2022-04-14T12:59:39.355418Z"
    },
    "papermill": {
     "duration": 0.263343,
     "end_time": "2022-04-14T13:34:26.436736",
     "exception": false,
     "start_time": "2022-04-14T13:34:26.173393",
     "status": "completed"
    },
    "tags": []
   },
   "outputs": [],
   "source": [
    "X_train,X_test,y_train,y_test=train_test_split(X,y,test_size=0.2,random_state=15,stratify=y)"
   ]
  },
  {
   "cell_type": "code",
   "execution_count": 49,
   "id": "0f22567f",
   "metadata": {
    "execution": {
     "iopub.execute_input": "2022-04-14T13:34:26.937103Z",
     "iopub.status.busy": "2022-04-14T13:34:26.936459Z",
     "iopub.status.idle": "2022-04-14T13:34:26.940954Z",
     "shell.execute_reply": "2022-04-14T13:34:26.941833Z",
     "shell.execute_reply.started": "2022-04-14T12:59:39.373925Z"
    },
    "papermill": {
     "duration": 0.256959,
     "end_time": "2022-04-14T13:34:26.942104",
     "exception": false,
     "start_time": "2022-04-14T13:34:26.685145",
     "status": "completed"
    },
    "tags": []
   },
   "outputs": [
    {
     "data": {
      "text/plain": [
       "(5513, 22)"
      ]
     },
     "execution_count": 49,
     "metadata": {},
     "output_type": "execute_result"
    }
   ],
   "source": [
    "X_train.shape"
   ]
  },
  {
   "cell_type": "code",
   "execution_count": 50,
   "id": "6dab3881",
   "metadata": {
    "execution": {
     "iopub.execute_input": "2022-04-14T13:34:27.443609Z",
     "iopub.status.busy": "2022-04-14T13:34:27.442939Z",
     "iopub.status.idle": "2022-04-14T13:34:27.447533Z",
     "shell.execute_reply": "2022-04-14T13:34:27.447991Z",
     "shell.execute_reply.started": "2022-04-14T12:59:39.385301Z"
    },
    "papermill": {
     "duration": 0.256645,
     "end_time": "2022-04-14T13:34:27.448185",
     "exception": false,
     "start_time": "2022-04-14T13:34:27.191540",
     "status": "completed"
    },
    "tags": []
   },
   "outputs": [
    {
     "data": {
      "text/plain": [
       "(1379, 22)"
      ]
     },
     "execution_count": 50,
     "metadata": {},
     "output_type": "execute_result"
    }
   ],
   "source": [
    "X_test.shape"
   ]
  },
  {
   "cell_type": "code",
   "execution_count": 51,
   "id": "2660827a",
   "metadata": {
    "execution": {
     "iopub.execute_input": "2022-04-14T13:34:27.954713Z",
     "iopub.status.busy": "2022-04-14T13:34:27.954060Z",
     "iopub.status.idle": "2022-04-14T13:35:14.356074Z",
     "shell.execute_reply": "2022-04-14T13:35:14.356701Z",
     "shell.execute_reply.started": "2022-04-14T12:59:39.400140Z"
    },
    "papermill": {
     "duration": 46.657105,
     "end_time": "2022-04-14T13:35:14.356917",
     "exception": false,
     "start_time": "2022-04-14T13:34:27.699812",
     "status": "completed"
    },
    "tags": []
   },
   "outputs": [
    {
     "name": "stdout",
     "output_type": "stream",
     "text": [
      "Epoch 1/100\n",
      "173/173 [==============================] - 1s 3ms/step - loss: 0.6010 - accuracy: 0.6713\n",
      "Epoch 2/100\n",
      "173/173 [==============================] - 0s 2ms/step - loss: 0.5036 - accuracy: 0.7578\n",
      "Epoch 3/100\n",
      "173/173 [==============================] - 1s 3ms/step - loss: 0.4711 - accuracy: 0.7816\n",
      "Epoch 4/100\n",
      "173/173 [==============================] - 1s 4ms/step - loss: 0.4383 - accuracy: 0.8057\n",
      "Epoch 5/100\n",
      "173/173 [==============================] - 1s 3ms/step - loss: 0.4115 - accuracy: 0.8141\n",
      "Epoch 6/100\n",
      "173/173 [==============================] - 0s 2ms/step - loss: 0.3946 - accuracy: 0.8221\n",
      "Epoch 7/100\n",
      "173/173 [==============================] - 0s 2ms/step - loss: 0.3730 - accuracy: 0.8338\n",
      "Epoch 8/100\n",
      "173/173 [==============================] - 0s 2ms/step - loss: 0.3449 - accuracy: 0.8516\n",
      "Epoch 9/100\n",
      "173/173 [==============================] - 0s 2ms/step - loss: 0.3218 - accuracy: 0.8609\n",
      "Epoch 10/100\n",
      "173/173 [==============================] - 0s 3ms/step - loss: 0.3014 - accuracy: 0.8694\n",
      "Epoch 11/100\n",
      "173/173 [==============================] - 0s 2ms/step - loss: 0.2697 - accuracy: 0.8877\n",
      "Epoch 12/100\n",
      "173/173 [==============================] - 0s 3ms/step - loss: 0.2587 - accuracy: 0.8948\n",
      "Epoch 13/100\n",
      "173/173 [==============================] - 0s 3ms/step - loss: 0.2316 - accuracy: 0.9055\n",
      "Epoch 14/100\n",
      "173/173 [==============================] - 0s 2ms/step - loss: 0.2126 - accuracy: 0.9169\n",
      "Epoch 15/100\n",
      "173/173 [==============================] - 0s 3ms/step - loss: 0.2037 - accuracy: 0.9189\n",
      "Epoch 16/100\n",
      "173/173 [==============================] - 0s 3ms/step - loss: 0.1882 - accuracy: 0.9244\n",
      "Epoch 17/100\n",
      "173/173 [==============================] - 0s 3ms/step - loss: 0.1672 - accuracy: 0.9360\n",
      "Epoch 18/100\n",
      "173/173 [==============================] - 0s 3ms/step - loss: 0.1710 - accuracy: 0.9356\n",
      "Epoch 19/100\n",
      "173/173 [==============================] - 0s 3ms/step - loss: 0.1600 - accuracy: 0.9427\n",
      "Epoch 20/100\n",
      "173/173 [==============================] - 0s 3ms/step - loss: 0.1468 - accuracy: 0.9478\n",
      "Epoch 21/100\n",
      "173/173 [==============================] - 0s 3ms/step - loss: 0.1271 - accuracy: 0.9545\n",
      "Epoch 22/100\n",
      "173/173 [==============================] - 0s 3ms/step - loss: 0.1181 - accuracy: 0.9559\n",
      "Epoch 23/100\n",
      "173/173 [==============================] - 0s 3ms/step - loss: 0.1216 - accuracy: 0.9588\n",
      "Epoch 24/100\n",
      "173/173 [==============================] - 0s 3ms/step - loss: 0.1090 - accuracy: 0.9628\n",
      "Epoch 25/100\n",
      "173/173 [==============================] - 0s 3ms/step - loss: 0.0993 - accuracy: 0.9673\n",
      "Epoch 26/100\n",
      "173/173 [==============================] - 1s 3ms/step - loss: 0.0897 - accuracy: 0.9703\n",
      "Epoch 27/100\n",
      "173/173 [==============================] - 0s 2ms/step - loss: 0.0876 - accuracy: 0.9688\n",
      "Epoch 28/100\n",
      "173/173 [==============================] - 0s 2ms/step - loss: 0.1054 - accuracy: 0.9632\n",
      "Epoch 29/100\n",
      "173/173 [==============================] - 0s 2ms/step - loss: 0.0836 - accuracy: 0.9724\n",
      "Epoch 30/100\n",
      "173/173 [==============================] - 0s 3ms/step - loss: 0.0661 - accuracy: 0.9791\n",
      "Epoch 31/100\n",
      "173/173 [==============================] - 0s 3ms/step - loss: 0.0613 - accuracy: 0.9802\n",
      "Epoch 32/100\n",
      "173/173 [==============================] - 0s 2ms/step - loss: 0.0569 - accuracy: 0.9813\n",
      "Epoch 33/100\n",
      "173/173 [==============================] - 0s 2ms/step - loss: 0.0948 - accuracy: 0.9675\n",
      "Epoch 34/100\n",
      "173/173 [==============================] - 0s 2ms/step - loss: 0.0714 - accuracy: 0.9753\n",
      "Epoch 35/100\n",
      "173/173 [==============================] - 0s 2ms/step - loss: 0.0489 - accuracy: 0.9833\n",
      "Epoch 36/100\n",
      "173/173 [==============================] - 0s 3ms/step - loss: 0.0786 - accuracy: 0.9732\n",
      "Epoch 37/100\n",
      "173/173 [==============================] - 0s 2ms/step - loss: 0.0505 - accuracy: 0.9849\n",
      "Epoch 38/100\n",
      "173/173 [==============================] - 0s 2ms/step - loss: 0.0591 - accuracy: 0.9795\n",
      "Epoch 39/100\n",
      "173/173 [==============================] - 0s 3ms/step - loss: 0.0448 - accuracy: 0.9842\n",
      "Epoch 40/100\n",
      "173/173 [==============================] - 0s 3ms/step - loss: 0.0454 - accuracy: 0.9840\n",
      "Epoch 41/100\n",
      "173/173 [==============================] - 0s 3ms/step - loss: 0.0483 - accuracy: 0.9842\n",
      "Epoch 42/100\n",
      "173/173 [==============================] - 0s 3ms/step - loss: 0.0873 - accuracy: 0.9695\n",
      "Epoch 43/100\n",
      "173/173 [==============================] - 0s 2ms/step - loss: 0.0434 - accuracy: 0.9859\n",
      "Epoch 44/100\n",
      "173/173 [==============================] - 0s 3ms/step - loss: 0.0259 - accuracy: 0.9933\n",
      "Epoch 45/100\n",
      "173/173 [==============================] - 0s 3ms/step - loss: 0.0220 - accuracy: 0.9933\n",
      "Epoch 46/100\n",
      "173/173 [==============================] - 0s 2ms/step - loss: 0.0188 - accuracy: 0.9944\n",
      "Epoch 47/100\n",
      "173/173 [==============================] - 0s 2ms/step - loss: 0.0547 - accuracy: 0.9815\n",
      "Epoch 48/100\n",
      "173/173 [==============================] - 0s 2ms/step - loss: 0.1180 - accuracy: 0.9592\n",
      "Epoch 49/100\n",
      "173/173 [==============================] - 0s 3ms/step - loss: 0.0419 - accuracy: 0.9859\n",
      "Epoch 50/100\n",
      "173/173 [==============================] - 0s 2ms/step - loss: 0.0231 - accuracy: 0.9931\n",
      "Epoch 51/100\n",
      "173/173 [==============================] - 0s 3ms/step - loss: 0.0162 - accuracy: 0.9958\n",
      "Epoch 52/100\n",
      "173/173 [==============================] - 0s 2ms/step - loss: 0.0148 - accuracy: 0.9966\n",
      "Epoch 53/100\n",
      "173/173 [==============================] - 0s 2ms/step - loss: 0.0391 - accuracy: 0.9859\n",
      "Epoch 54/100\n",
      "173/173 [==============================] - 0s 2ms/step - loss: 0.0884 - accuracy: 0.9746\n",
      "Epoch 55/100\n",
      "173/173 [==============================] - 0s 3ms/step - loss: 0.0529 - accuracy: 0.9833\n",
      "Epoch 56/100\n",
      "173/173 [==============================] - 0s 3ms/step - loss: 0.0261 - accuracy: 0.9913\n",
      "Epoch 57/100\n",
      "173/173 [==============================] - 0s 3ms/step - loss: 0.0148 - accuracy: 0.9966\n",
      "Epoch 58/100\n",
      "173/173 [==============================] - 0s 2ms/step - loss: 0.0079 - accuracy: 0.9982\n",
      "Epoch 59/100\n",
      "173/173 [==============================] - 0s 3ms/step - loss: 0.0074 - accuracy: 0.9989\n",
      "Epoch 60/100\n",
      "173/173 [==============================] - 0s 2ms/step - loss: 0.0048 - accuracy: 0.9991\n",
      "Epoch 61/100\n",
      "173/173 [==============================] - 0s 2ms/step - loss: 0.0038 - accuracy: 0.9996\n",
      "Epoch 62/100\n",
      "173/173 [==============================] - 0s 2ms/step - loss: 0.0039 - accuracy: 0.9993\n",
      "Epoch 63/100\n",
      "173/173 [==============================] - 0s 3ms/step - loss: 0.0034 - accuracy: 0.9998\n",
      "Epoch 64/100\n",
      "173/173 [==============================] - 0s 3ms/step - loss: 0.0021 - accuracy: 0.9998\n",
      "Epoch 65/100\n",
      "173/173 [==============================] - 0s 3ms/step - loss: 0.0022 - accuracy: 1.0000\n",
      "Epoch 66/100\n",
      "173/173 [==============================] - 0s 3ms/step - loss: 0.0014 - accuracy: 1.0000\n",
      "Epoch 67/100\n",
      "173/173 [==============================] - 0s 3ms/step - loss: 0.0011 - accuracy: 1.0000\n",
      "Epoch 68/100\n",
      "173/173 [==============================] - 0s 3ms/step - loss: 0.0011 - accuracy: 1.0000\n",
      "Epoch 69/100\n",
      "173/173 [==============================] - 0s 2ms/step - loss: 0.1571 - accuracy: 0.9605\n",
      "Epoch 70/100\n",
      "173/173 [==============================] - 0s 2ms/step - loss: 0.1355 - accuracy: 0.9561\n",
      "Epoch 71/100\n",
      "173/173 [==============================] - 0s 3ms/step - loss: 0.0371 - accuracy: 0.9869\n",
      "Epoch 72/100\n",
      "173/173 [==============================] - 0s 2ms/step - loss: 0.0187 - accuracy: 0.9944\n",
      "Epoch 73/100\n",
      "173/173 [==============================] - 0s 3ms/step - loss: 0.0144 - accuracy: 0.9969\n",
      "Epoch 74/100\n",
      "173/173 [==============================] - 0s 2ms/step - loss: 0.0368 - accuracy: 0.9884\n",
      "Epoch 75/100\n",
      "173/173 [==============================] - 0s 2ms/step - loss: 0.0711 - accuracy: 0.9771\n",
      "Epoch 76/100\n",
      "173/173 [==============================] - 1s 3ms/step - loss: 0.0299 - accuracy: 0.9907\n",
      "Epoch 77/100\n",
      "173/173 [==============================] - 1s 4ms/step - loss: 0.0117 - accuracy: 0.9967\n",
      "Epoch 78/100\n",
      "173/173 [==============================] - 1s 3ms/step - loss: 0.0307 - accuracy: 0.9897\n",
      "Epoch 79/100\n",
      "173/173 [==============================] - 0s 2ms/step - loss: 0.0102 - accuracy: 0.9976\n",
      "Epoch 80/100\n",
      "173/173 [==============================] - 0s 3ms/step - loss: 0.0045 - accuracy: 0.9991\n",
      "Epoch 81/100\n",
      "173/173 [==============================] - 0s 2ms/step - loss: 0.0018 - accuracy: 1.0000\n",
      "Epoch 82/100\n",
      "173/173 [==============================] - 0s 2ms/step - loss: 0.0013 - accuracy: 1.0000\n",
      "Epoch 83/100\n",
      "173/173 [==============================] - 0s 3ms/step - loss: 0.0011 - accuracy: 1.0000\n",
      "Epoch 84/100\n",
      "173/173 [==============================] - 0s 3ms/step - loss: 9.0664e-04 - accuracy: 1.0000\n",
      "Epoch 85/100\n",
      "173/173 [==============================] - 0s 2ms/step - loss: 7.6919e-04 - accuracy: 1.0000\n",
      "Epoch 86/100\n",
      "173/173 [==============================] - 0s 3ms/step - loss: 6.7530e-04 - accuracy: 1.0000\n",
      "Epoch 87/100\n",
      "173/173 [==============================] - 0s 3ms/step - loss: 6.0064e-04 - accuracy: 1.0000\n",
      "Epoch 88/100\n",
      "173/173 [==============================] - 0s 3ms/step - loss: 5.3079e-04 - accuracy: 1.0000\n",
      "Epoch 89/100\n",
      "173/173 [==============================] - 0s 3ms/step - loss: 4.5233e-04 - accuracy: 1.0000\n",
      "Epoch 90/100\n",
      "173/173 [==============================] - 0s 3ms/step - loss: 4.0673e-04 - accuracy: 1.0000\n",
      "Epoch 91/100\n",
      "173/173 [==============================] - 0s 3ms/step - loss: 3.6055e-04 - accuracy: 1.0000\n",
      "Epoch 92/100\n",
      "173/173 [==============================] - 0s 2ms/step - loss: 3.2712e-04 - accuracy: 1.0000\n",
      "Epoch 93/100\n",
      "173/173 [==============================] - 0s 3ms/step - loss: 2.9173e-04 - accuracy: 1.0000\n",
      "Epoch 94/100\n",
      "173/173 [==============================] - 0s 3ms/step - loss: 2.6574e-04 - accuracy: 1.0000\n",
      "Epoch 95/100\n",
      "173/173 [==============================] - 0s 2ms/step - loss: 2.2623e-04 - accuracy: 1.0000\n",
      "Epoch 96/100\n",
      "173/173 [==============================] - 0s 2ms/step - loss: 2.1420e-04 - accuracy: 1.0000\n",
      "Epoch 97/100\n",
      "173/173 [==============================] - 0s 2ms/step - loss: 1.9222e-04 - accuracy: 1.0000\n",
      "Epoch 98/100\n",
      "173/173 [==============================] - 0s 2ms/step - loss: 1.6896e-04 - accuracy: 1.0000\n",
      "Epoch 99/100\n",
      "173/173 [==============================] - 0s 3ms/step - loss: 1.5230e-04 - accuracy: 1.0000\n",
      "Epoch 100/100\n",
      "173/173 [==============================] - 0s 3ms/step - loss: 1.3648e-04 - accuracy: 1.0000\n",
      "44/44 [==============================] - 0s 2ms/step - loss: 0.5131 - accuracy: 0.9471\n",
      "[0.5130764245986938, 0.9470630884170532]\n",
      "Classification Report :\n",
      "               precision    recall  f1-score   support\n",
      "\n",
      "           0       1.00      0.90      0.94       690\n",
      "           1       0.91      1.00      0.95       689\n",
      "\n",
      "    accuracy                           0.95      1379\n",
      "   macro avg       0.95      0.95      0.95      1379\n",
      "weighted avg       0.95      0.95      0.95      1379\n",
      "\n"
     ]
    }
   ],
   "source": [
    "y_preds=ANN(X_train,y_train,X_test,y_test,'binary_crossentropy',-1)"
   ]
  },
  {
   "cell_type": "markdown",
   "id": "87a0e39f",
   "metadata": {
    "papermill": {
     "duration": 0.530233,
     "end_time": "2022-04-14T13:35:15.424087",
     "exception": false,
     "start_time": "2022-04-14T13:35:14.893854",
     "status": "completed"
    },
    "tags": []
   },
   "source": [
    "**We can also apply SMOTE Method and compare the classification report to select the best performing approach.**"
   ]
  },
  {
   "cell_type": "code",
   "execution_count": null,
   "id": "a81349ca",
   "metadata": {
    "papermill": {
     "duration": 0.529364,
     "end_time": "2022-04-14T13:35:16.483468",
     "exception": false,
     "start_time": "2022-04-14T13:35:15.954104",
     "status": "completed"
    },
    "tags": []
   },
   "outputs": [],
   "source": []
  }
 ],
 "metadata": {
  "kernelspec": {
   "display_name": "Python 3",
   "language": "python",
   "name": "python3"
  },
  "language_info": {
   "codemirror_mode": {
    "name": "ipython",
    "version": 3
   },
   "file_extension": ".py",
   "mimetype": "text/x-python",
   "name": "python",
   "nbconvert_exporter": "python",
   "pygments_lexer": "ipython3",
   "version": "3.7.12"
  },
  "papermill": {
   "default_parameters": {},
   "duration": 137.737933,
   "end_time": "2022-04-14T13:35:19.999768",
   "environment_variables": {},
   "exception": null,
   "input_path": "__notebook__.ipynb",
   "output_path": "__notebook__.ipynb",
   "parameters": {},
   "start_time": "2022-04-14T13:33:02.261835",
   "version": "2.3.3"
  }
 },
 "nbformat": 4,
 "nbformat_minor": 5
}
